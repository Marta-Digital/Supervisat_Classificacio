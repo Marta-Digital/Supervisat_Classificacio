{
 "cells": [
  {
   "cell_type": "markdown",
   "metadata": {},
   "source": [
    "![logo](banner.jpg)"
   ]
  },
  {
   "cell_type": "markdown",
   "metadata": {},
   "source": [
    "<h1><center><span style=\"color:blue\">TASCA 14 - IT Academy</span></center></h1>\n",
    "<h2><center><span style=\"color:blue\">Curs Data Science</span></center></h2>"
   ]
  },
  {
   "cell_type": "code",
   "execution_count": 62,
   "metadata": {},
   "outputs": [],
   "source": [
    "import pandas as pd\n",
    "import numpy as np\n",
    "from numpy import random\n",
    "import pandas as pd\n",
    "import statistics as stat\n",
    "import seaborn as sns\n",
    "import matplotlib.pyplot as plt\n",
    "from matplotlib.pyplot import figure\n",
    "from pyod.models.knn import KNN\n",
    "from sklearn.preprocessing import StandardScaler\n",
    "from sklearn.preprocessing import MinMaxScaler\n",
    "import sklearn\n",
    "from sklearn.decomposition import PCA\n",
    "from sklearn.cluster import DBSCAN\n",
    "import sklearn.neighbors\n",
    "from sklearn.neighbors import kneighbors_graph\n",
    "from sklearn.datasets import make_blobs\n",
    "from sklearn.model_selection import train_test_split, cross_validate, cross_val_score, KFold\n",
    "from sklearn.linear_model import LogisticRegression\n",
    "from sklearn import metrics\n",
    "from sklearn.tree import DecisionTreeClassifier\n",
    "from scipy import stats\n",
    "from sklearn.svm import SVC\n",
    "from sklearn.neighbors import KNeighborsClassifier\n",
    "from sklearn.metrics import mean_squared_error, classification_report, confusion_matrix, f1_score\n",
    "from imblearn.over_sampling import RandomOverSampler\n",
    "from collections import Counter\n",
    "from sklearn.feature_selection import SelectKBest\n",
    "from sklearn.feature_selection import chi2\n",
    "from imblearn.over_sampling import SMOTE\n",
    "\n",
    "#pd.options.display.float_format = '{:.0f}'.format"
   ]
  },
  {
   "cell_type": "code",
   "execution_count": 21,
   "metadata": {},
   "outputs": [],
   "source": [
    "# Aprovechamos la exploración inicial realizada en la Tarea 12 (Tasca Train_Test) para la presente Tasca ya que continuamos \n",
    "# trabajando con el dataset DelayedFlight.  "
   ]
  },
  {
   "cell_type": "code",
   "execution_count": 22,
   "metadata": {},
   "outputs": [],
   "source": [
    "file=pd.read_csv(\"DelayedFlights.csv\", sep=\",\", encoding='utf8')"
   ]
  },
  {
   "cell_type": "code",
   "execution_count": 23,
   "metadata": {},
   "outputs": [
    {
     "data": {
      "text/html": [
       "<div>\n",
       "<style scoped>\n",
       "    .dataframe tbody tr th:only-of-type {\n",
       "        vertical-align: middle;\n",
       "    }\n",
       "\n",
       "    .dataframe tbody tr th {\n",
       "        vertical-align: top;\n",
       "    }\n",
       "\n",
       "    .dataframe thead th {\n",
       "        text-align: right;\n",
       "    }\n",
       "</style>\n",
       "<table border=\"1\" class=\"dataframe\">\n",
       "  <thead>\n",
       "    <tr style=\"text-align: right;\">\n",
       "      <th></th>\n",
       "      <th>Unnamed: 0</th>\n",
       "      <th>Year</th>\n",
       "      <th>Month</th>\n",
       "      <th>DayofMonth</th>\n",
       "      <th>DayOfWeek</th>\n",
       "      <th>DepTime</th>\n",
       "      <th>CRSDepTime</th>\n",
       "      <th>ArrTime</th>\n",
       "      <th>CRSArrTime</th>\n",
       "      <th>UniqueCarrier</th>\n",
       "      <th>...</th>\n",
       "      <th>TaxiIn</th>\n",
       "      <th>TaxiOut</th>\n",
       "      <th>Cancelled</th>\n",
       "      <th>CancellationCode</th>\n",
       "      <th>Diverted</th>\n",
       "      <th>CarrierDelay</th>\n",
       "      <th>WeatherDelay</th>\n",
       "      <th>NASDelay</th>\n",
       "      <th>SecurityDelay</th>\n",
       "      <th>LateAircraftDelay</th>\n",
       "    </tr>\n",
       "  </thead>\n",
       "  <tbody>\n",
       "    <tr>\n",
       "      <th>0</th>\n",
       "      <td>0</td>\n",
       "      <td>2008</td>\n",
       "      <td>1</td>\n",
       "      <td>3</td>\n",
       "      <td>4</td>\n",
       "      <td>2003.0</td>\n",
       "      <td>1955</td>\n",
       "      <td>2211.0</td>\n",
       "      <td>2225</td>\n",
       "      <td>WN</td>\n",
       "      <td>...</td>\n",
       "      <td>4.0</td>\n",
       "      <td>8.0</td>\n",
       "      <td>0</td>\n",
       "      <td>N</td>\n",
       "      <td>0</td>\n",
       "      <td>NaN</td>\n",
       "      <td>NaN</td>\n",
       "      <td>NaN</td>\n",
       "      <td>NaN</td>\n",
       "      <td>NaN</td>\n",
       "    </tr>\n",
       "    <tr>\n",
       "      <th>1</th>\n",
       "      <td>1</td>\n",
       "      <td>2008</td>\n",
       "      <td>1</td>\n",
       "      <td>3</td>\n",
       "      <td>4</td>\n",
       "      <td>754.0</td>\n",
       "      <td>735</td>\n",
       "      <td>1002.0</td>\n",
       "      <td>1000</td>\n",
       "      <td>WN</td>\n",
       "      <td>...</td>\n",
       "      <td>5.0</td>\n",
       "      <td>10.0</td>\n",
       "      <td>0</td>\n",
       "      <td>N</td>\n",
       "      <td>0</td>\n",
       "      <td>NaN</td>\n",
       "      <td>NaN</td>\n",
       "      <td>NaN</td>\n",
       "      <td>NaN</td>\n",
       "      <td>NaN</td>\n",
       "    </tr>\n",
       "    <tr>\n",
       "      <th>2</th>\n",
       "      <td>2</td>\n",
       "      <td>2008</td>\n",
       "      <td>1</td>\n",
       "      <td>3</td>\n",
       "      <td>4</td>\n",
       "      <td>628.0</td>\n",
       "      <td>620</td>\n",
       "      <td>804.0</td>\n",
       "      <td>750</td>\n",
       "      <td>WN</td>\n",
       "      <td>...</td>\n",
       "      <td>3.0</td>\n",
       "      <td>17.0</td>\n",
       "      <td>0</td>\n",
       "      <td>N</td>\n",
       "      <td>0</td>\n",
       "      <td>NaN</td>\n",
       "      <td>NaN</td>\n",
       "      <td>NaN</td>\n",
       "      <td>NaN</td>\n",
       "      <td>NaN</td>\n",
       "    </tr>\n",
       "    <tr>\n",
       "      <th>3</th>\n",
       "      <td>4</td>\n",
       "      <td>2008</td>\n",
       "      <td>1</td>\n",
       "      <td>3</td>\n",
       "      <td>4</td>\n",
       "      <td>1829.0</td>\n",
       "      <td>1755</td>\n",
       "      <td>1959.0</td>\n",
       "      <td>1925</td>\n",
       "      <td>WN</td>\n",
       "      <td>...</td>\n",
       "      <td>3.0</td>\n",
       "      <td>10.0</td>\n",
       "      <td>0</td>\n",
       "      <td>N</td>\n",
       "      <td>0</td>\n",
       "      <td>2.0</td>\n",
       "      <td>0.0</td>\n",
       "      <td>0.0</td>\n",
       "      <td>0.0</td>\n",
       "      <td>32.0</td>\n",
       "    </tr>\n",
       "    <tr>\n",
       "      <th>4</th>\n",
       "      <td>5</td>\n",
       "      <td>2008</td>\n",
       "      <td>1</td>\n",
       "      <td>3</td>\n",
       "      <td>4</td>\n",
       "      <td>1940.0</td>\n",
       "      <td>1915</td>\n",
       "      <td>2121.0</td>\n",
       "      <td>2110</td>\n",
       "      <td>WN</td>\n",
       "      <td>...</td>\n",
       "      <td>4.0</td>\n",
       "      <td>10.0</td>\n",
       "      <td>0</td>\n",
       "      <td>N</td>\n",
       "      <td>0</td>\n",
       "      <td>NaN</td>\n",
       "      <td>NaN</td>\n",
       "      <td>NaN</td>\n",
       "      <td>NaN</td>\n",
       "      <td>NaN</td>\n",
       "    </tr>\n",
       "  </tbody>\n",
       "</table>\n",
       "<p>5 rows × 30 columns</p>\n",
       "</div>"
      ],
      "text/plain": [
       "   Unnamed: 0  Year  Month  DayofMonth  DayOfWeek  DepTime  CRSDepTime  \\\n",
       "0           0  2008      1           3          4   2003.0        1955   \n",
       "1           1  2008      1           3          4    754.0         735   \n",
       "2           2  2008      1           3          4    628.0         620   \n",
       "3           4  2008      1           3          4   1829.0        1755   \n",
       "4           5  2008      1           3          4   1940.0        1915   \n",
       "\n",
       "   ArrTime  CRSArrTime UniqueCarrier  ...  TaxiIn TaxiOut  Cancelled  \\\n",
       "0   2211.0        2225            WN  ...     4.0     8.0          0   \n",
       "1   1002.0        1000            WN  ...     5.0    10.0          0   \n",
       "2    804.0         750            WN  ...     3.0    17.0          0   \n",
       "3   1959.0        1925            WN  ...     3.0    10.0          0   \n",
       "4   2121.0        2110            WN  ...     4.0    10.0          0   \n",
       "\n",
       "   CancellationCode  Diverted  CarrierDelay  WeatherDelay NASDelay  \\\n",
       "0                 N         0           NaN           NaN      NaN   \n",
       "1                 N         0           NaN           NaN      NaN   \n",
       "2                 N         0           NaN           NaN      NaN   \n",
       "3                 N         0           2.0           0.0      0.0   \n",
       "4                 N         0           NaN           NaN      NaN   \n",
       "\n",
       "  SecurityDelay  LateAircraftDelay  \n",
       "0           NaN                NaN  \n",
       "1           NaN                NaN  \n",
       "2           NaN                NaN  \n",
       "3           0.0               32.0  \n",
       "4           NaN                NaN  \n",
       "\n",
       "[5 rows x 30 columns]"
      ]
     },
     "execution_count": 23,
     "metadata": {},
     "output_type": "execute_result"
    }
   ],
   "source": [
    "file.head()"
   ]
  },
  {
   "cell_type": "code",
   "execution_count": 24,
   "metadata": {
    "scrolled": true
   },
   "outputs": [
    {
     "data": {
      "text/html": [
       "<div>\n",
       "<style scoped>\n",
       "    .dataframe tbody tr th:only-of-type {\n",
       "        vertical-align: middle;\n",
       "    }\n",
       "\n",
       "    .dataframe tbody tr th {\n",
       "        vertical-align: top;\n",
       "    }\n",
       "\n",
       "    .dataframe thead th {\n",
       "        text-align: right;\n",
       "    }\n",
       "</style>\n",
       "<table border=\"1\" class=\"dataframe\">\n",
       "  <thead>\n",
       "    <tr style=\"text-align: right;\">\n",
       "      <th></th>\n",
       "      <th>Unnamed: 0</th>\n",
       "      <th>Year</th>\n",
       "      <th>Month</th>\n",
       "      <th>DayofMonth</th>\n",
       "      <th>DayOfWeek</th>\n",
       "      <th>DepTime</th>\n",
       "      <th>CRSDepTime</th>\n",
       "      <th>ArrTime</th>\n",
       "      <th>CRSArrTime</th>\n",
       "      <th>FlightNum</th>\n",
       "      <th>...</th>\n",
       "      <th>Distance</th>\n",
       "      <th>TaxiIn</th>\n",
       "      <th>TaxiOut</th>\n",
       "      <th>Cancelled</th>\n",
       "      <th>Diverted</th>\n",
       "      <th>CarrierDelay</th>\n",
       "      <th>WeatherDelay</th>\n",
       "      <th>NASDelay</th>\n",
       "      <th>SecurityDelay</th>\n",
       "      <th>LateAircraftDelay</th>\n",
       "    </tr>\n",
       "  </thead>\n",
       "  <tbody>\n",
       "    <tr>\n",
       "      <th>count</th>\n",
       "      <td>1936758.00</td>\n",
       "      <td>1936758.0</td>\n",
       "      <td>1936758.00</td>\n",
       "      <td>1936758.00</td>\n",
       "      <td>1936758.00</td>\n",
       "      <td>1936758.00</td>\n",
       "      <td>1936758.00</td>\n",
       "      <td>1929648.00</td>\n",
       "      <td>1936758.00</td>\n",
       "      <td>1936758.00</td>\n",
       "      <td>...</td>\n",
       "      <td>1936758.00</td>\n",
       "      <td>1929648.00</td>\n",
       "      <td>1936303.00</td>\n",
       "      <td>1936758.00</td>\n",
       "      <td>1936758.00</td>\n",
       "      <td>1247488.00</td>\n",
       "      <td>1247488.00</td>\n",
       "      <td>1247488.00</td>\n",
       "      <td>1247488.00</td>\n",
       "      <td>1247488.00</td>\n",
       "    </tr>\n",
       "    <tr>\n",
       "      <th>mean</th>\n",
       "      <td>3341651.15</td>\n",
       "      <td>2008.0</td>\n",
       "      <td>6.11</td>\n",
       "      <td>15.75</td>\n",
       "      <td>3.98</td>\n",
       "      <td>1518.53</td>\n",
       "      <td>1467.47</td>\n",
       "      <td>1610.14</td>\n",
       "      <td>1634.22</td>\n",
       "      <td>2184.26</td>\n",
       "      <td>...</td>\n",
       "      <td>765.69</td>\n",
       "      <td>6.81</td>\n",
       "      <td>18.23</td>\n",
       "      <td>0.00</td>\n",
       "      <td>0.00</td>\n",
       "      <td>19.18</td>\n",
       "      <td>3.70</td>\n",
       "      <td>15.02</td>\n",
       "      <td>0.09</td>\n",
       "      <td>25.30</td>\n",
       "    </tr>\n",
       "    <tr>\n",
       "      <th>std</th>\n",
       "      <td>2066064.96</td>\n",
       "      <td>0.0</td>\n",
       "      <td>3.48</td>\n",
       "      <td>8.78</td>\n",
       "      <td>2.00</td>\n",
       "      <td>450.49</td>\n",
       "      <td>424.77</td>\n",
       "      <td>548.18</td>\n",
       "      <td>464.63</td>\n",
       "      <td>1944.70</td>\n",
       "      <td>...</td>\n",
       "      <td>574.48</td>\n",
       "      <td>5.27</td>\n",
       "      <td>14.34</td>\n",
       "      <td>0.02</td>\n",
       "      <td>0.06</td>\n",
       "      <td>43.55</td>\n",
       "      <td>21.49</td>\n",
       "      <td>33.83</td>\n",
       "      <td>2.02</td>\n",
       "      <td>42.05</td>\n",
       "    </tr>\n",
       "    <tr>\n",
       "      <th>min</th>\n",
       "      <td>0.00</td>\n",
       "      <td>2008.0</td>\n",
       "      <td>1.00</td>\n",
       "      <td>1.00</td>\n",
       "      <td>1.00</td>\n",
       "      <td>1.00</td>\n",
       "      <td>0.00</td>\n",
       "      <td>1.00</td>\n",
       "      <td>0.00</td>\n",
       "      <td>1.00</td>\n",
       "      <td>...</td>\n",
       "      <td>11.00</td>\n",
       "      <td>0.00</td>\n",
       "      <td>0.00</td>\n",
       "      <td>0.00</td>\n",
       "      <td>0.00</td>\n",
       "      <td>0.00</td>\n",
       "      <td>0.00</td>\n",
       "      <td>0.00</td>\n",
       "      <td>0.00</td>\n",
       "      <td>0.00</td>\n",
       "    </tr>\n",
       "    <tr>\n",
       "      <th>25%</th>\n",
       "      <td>1517452.50</td>\n",
       "      <td>2008.0</td>\n",
       "      <td>3.00</td>\n",
       "      <td>8.00</td>\n",
       "      <td>2.00</td>\n",
       "      <td>1203.00</td>\n",
       "      <td>1135.00</td>\n",
       "      <td>1316.00</td>\n",
       "      <td>1325.00</td>\n",
       "      <td>610.00</td>\n",
       "      <td>...</td>\n",
       "      <td>338.00</td>\n",
       "      <td>4.00</td>\n",
       "      <td>10.00</td>\n",
       "      <td>0.00</td>\n",
       "      <td>0.00</td>\n",
       "      <td>0.00</td>\n",
       "      <td>0.00</td>\n",
       "      <td>0.00</td>\n",
       "      <td>0.00</td>\n",
       "      <td>0.00</td>\n",
       "    </tr>\n",
       "    <tr>\n",
       "      <th>50%</th>\n",
       "      <td>3242558.00</td>\n",
       "      <td>2008.0</td>\n",
       "      <td>6.00</td>\n",
       "      <td>16.00</td>\n",
       "      <td>4.00</td>\n",
       "      <td>1545.00</td>\n",
       "      <td>1510.00</td>\n",
       "      <td>1715.00</td>\n",
       "      <td>1705.00</td>\n",
       "      <td>1543.00</td>\n",
       "      <td>...</td>\n",
       "      <td>606.00</td>\n",
       "      <td>6.00</td>\n",
       "      <td>14.00</td>\n",
       "      <td>0.00</td>\n",
       "      <td>0.00</td>\n",
       "      <td>2.00</td>\n",
       "      <td>0.00</td>\n",
       "      <td>2.00</td>\n",
       "      <td>0.00</td>\n",
       "      <td>8.00</td>\n",
       "    </tr>\n",
       "    <tr>\n",
       "      <th>75%</th>\n",
       "      <td>4972466.75</td>\n",
       "      <td>2008.0</td>\n",
       "      <td>9.00</td>\n",
       "      <td>23.00</td>\n",
       "      <td>6.00</td>\n",
       "      <td>1900.00</td>\n",
       "      <td>1815.00</td>\n",
       "      <td>2030.00</td>\n",
       "      <td>2014.00</td>\n",
       "      <td>3422.00</td>\n",
       "      <td>...</td>\n",
       "      <td>998.00</td>\n",
       "      <td>8.00</td>\n",
       "      <td>21.00</td>\n",
       "      <td>0.00</td>\n",
       "      <td>0.00</td>\n",
       "      <td>21.00</td>\n",
       "      <td>0.00</td>\n",
       "      <td>15.00</td>\n",
       "      <td>0.00</td>\n",
       "      <td>33.00</td>\n",
       "    </tr>\n",
       "    <tr>\n",
       "      <th>max</th>\n",
       "      <td>7009727.00</td>\n",
       "      <td>2008.0</td>\n",
       "      <td>12.00</td>\n",
       "      <td>31.00</td>\n",
       "      <td>7.00</td>\n",
       "      <td>2400.00</td>\n",
       "      <td>2359.00</td>\n",
       "      <td>2400.00</td>\n",
       "      <td>2400.00</td>\n",
       "      <td>9742.00</td>\n",
       "      <td>...</td>\n",
       "      <td>4962.00</td>\n",
       "      <td>240.00</td>\n",
       "      <td>422.00</td>\n",
       "      <td>1.00</td>\n",
       "      <td>1.00</td>\n",
       "      <td>2436.00</td>\n",
       "      <td>1352.00</td>\n",
       "      <td>1357.00</td>\n",
       "      <td>392.00</td>\n",
       "      <td>1316.00</td>\n",
       "    </tr>\n",
       "  </tbody>\n",
       "</table>\n",
       "<p>8 rows × 25 columns</p>\n",
       "</div>"
      ],
      "text/plain": [
       "       Unnamed: 0       Year       Month  DayofMonth   DayOfWeek     DepTime  \\\n",
       "count  1936758.00  1936758.0  1936758.00  1936758.00  1936758.00  1936758.00   \n",
       "mean   3341651.15     2008.0        6.11       15.75        3.98     1518.53   \n",
       "std    2066064.96        0.0        3.48        8.78        2.00      450.49   \n",
       "min          0.00     2008.0        1.00        1.00        1.00        1.00   \n",
       "25%    1517452.50     2008.0        3.00        8.00        2.00     1203.00   \n",
       "50%    3242558.00     2008.0        6.00       16.00        4.00     1545.00   \n",
       "75%    4972466.75     2008.0        9.00       23.00        6.00     1900.00   \n",
       "max    7009727.00     2008.0       12.00       31.00        7.00     2400.00   \n",
       "\n",
       "       CRSDepTime     ArrTime  CRSArrTime   FlightNum  ...    Distance  \\\n",
       "count  1936758.00  1929648.00  1936758.00  1936758.00  ...  1936758.00   \n",
       "mean      1467.47     1610.14     1634.22     2184.26  ...      765.69   \n",
       "std        424.77      548.18      464.63     1944.70  ...      574.48   \n",
       "min          0.00        1.00        0.00        1.00  ...       11.00   \n",
       "25%       1135.00     1316.00     1325.00      610.00  ...      338.00   \n",
       "50%       1510.00     1715.00     1705.00     1543.00  ...      606.00   \n",
       "75%       1815.00     2030.00     2014.00     3422.00  ...      998.00   \n",
       "max       2359.00     2400.00     2400.00     9742.00  ...     4962.00   \n",
       "\n",
       "           TaxiIn     TaxiOut   Cancelled    Diverted  CarrierDelay  \\\n",
       "count  1929648.00  1936303.00  1936758.00  1936758.00    1247488.00   \n",
       "mean         6.81       18.23        0.00        0.00         19.18   \n",
       "std          5.27       14.34        0.02        0.06         43.55   \n",
       "min          0.00        0.00        0.00        0.00          0.00   \n",
       "25%          4.00       10.00        0.00        0.00          0.00   \n",
       "50%          6.00       14.00        0.00        0.00          2.00   \n",
       "75%          8.00       21.00        0.00        0.00         21.00   \n",
       "max        240.00      422.00        1.00        1.00       2436.00   \n",
       "\n",
       "       WeatherDelay    NASDelay  SecurityDelay  LateAircraftDelay  \n",
       "count    1247488.00  1247488.00     1247488.00         1247488.00  \n",
       "mean           3.70       15.02           0.09              25.30  \n",
       "std           21.49       33.83           2.02              42.05  \n",
       "min            0.00        0.00           0.00               0.00  \n",
       "25%            0.00        0.00           0.00               0.00  \n",
       "50%            0.00        2.00           0.00               8.00  \n",
       "75%            0.00       15.00           0.00              33.00  \n",
       "max         1352.00     1357.00         392.00            1316.00  \n",
       "\n",
       "[8 rows x 25 columns]"
      ]
     },
     "execution_count": 24,
     "metadata": {},
     "output_type": "execute_result"
    }
   ],
   "source": [
    "file.describe().round(2)"
   ]
  },
  {
   "cell_type": "code",
   "execution_count": 25,
   "metadata": {},
   "outputs": [
    {
     "data": {
      "text/plain": [
       "(1936758, 30)"
      ]
     },
     "execution_count": 25,
     "metadata": {},
     "output_type": "execute_result"
    }
   ],
   "source": [
    "file.shape"
   ]
  },
  {
   "cell_type": "code",
   "execution_count": 26,
   "metadata": {},
   "outputs": [
    {
     "data": {
      "text/plain": [
       "Index(['Unnamed: 0', 'Year', 'Month', 'DayofMonth', 'DayOfWeek', 'DepTime',\n",
       "       'CRSDepTime', 'ArrTime', 'CRSArrTime', 'UniqueCarrier', 'FlightNum',\n",
       "       'TailNum', 'ActualElapsedTime', 'CRSElapsedTime', 'AirTime', 'ArrDelay',\n",
       "       'DepDelay', 'Origin', 'Dest', 'Distance', 'TaxiIn', 'TaxiOut',\n",
       "       'Cancelled', 'CancellationCode', 'Diverted', 'CarrierDelay',\n",
       "       'WeatherDelay', 'NASDelay', 'SecurityDelay', 'LateAircraftDelay'],\n",
       "      dtype='object')"
      ]
     },
     "execution_count": 26,
     "metadata": {},
     "output_type": "execute_result"
    }
   ],
   "source": [
    "file.columns"
   ]
  },
  {
   "cell_type": "code",
   "execution_count": 27,
   "metadata": {},
   "outputs": [
    {
     "data": {
      "text/plain": [
       "0          1\n",
       "6846151    1\n",
       "2232597    1\n",
       "5967571    1\n",
       "2242832    1\n",
       "          ..\n",
       "4495774    1\n",
       "6925369    1\n",
       "3917269    1\n",
       "3919316    1\n",
       "2047       1\n",
       "Name: Unnamed: 0, Length: 1936758, dtype: int64"
      ]
     },
     "execution_count": 27,
     "metadata": {},
     "output_type": "execute_result"
    }
   ],
   "source": [
    "# A continuación, vemos que la columna 'Unnamed' no aporta nada, no es más que un contador de filas, así que pasaremos a \n",
    "# eliminarla. \n",
    "\n",
    "file['Unnamed: 0'].value_counts()"
   ]
  },
  {
   "cell_type": "code",
   "execution_count": 28,
   "metadata": {},
   "outputs": [],
   "source": [
    "file.drop(['Unnamed: 0'], axis=1, inplace=True)"
   ]
  },
  {
   "cell_type": "code",
   "execution_count": 29,
   "metadata": {},
   "outputs": [
    {
     "name": "stdout",
     "output_type": "stream",
     "text": [
      "Total Number of NaN values: \n",
      "Year                      0\n",
      "Month                     0\n",
      "DayofMonth                0\n",
      "DayOfWeek                 0\n",
      "DepTime                   0\n",
      "CRSDepTime                0\n",
      "ArrTime                7110\n",
      "CRSArrTime                0\n",
      "UniqueCarrier             0\n",
      "FlightNum                 0\n",
      "TailNum                   5\n",
      "ActualElapsedTime      8387\n",
      "CRSElapsedTime          198\n",
      "AirTime                8387\n",
      "ArrDelay               8387\n",
      "DepDelay                  0\n",
      "Origin                    0\n",
      "Dest                      0\n",
      "Distance                  0\n",
      "TaxiIn                 7110\n",
      "TaxiOut                 455\n",
      "Cancelled                 0\n",
      "CancellationCode          0\n",
      "Diverted                  0\n",
      "CarrierDelay         689270\n",
      "WeatherDelay         689270\n",
      "NASDelay             689270\n",
      "SecurityDelay        689270\n",
      "LateAircraftDelay    689270\n",
      "dtype: int64\n"
     ]
    }
   ],
   "source": [
    "# Miramos los valores NaN que tienen las columnas\n",
    "\n",
    "total_nan_values = file.isna().sum()\n",
    "print (\"Total Number of NaN values: \"+'\\n'+str(total_nan_values))"
   ]
  },
  {
   "cell_type": "code",
   "execution_count": 30,
   "metadata": {},
   "outputs": [
    {
     "name": "stdout",
     "output_type": "stream",
     "text": [
      "<class 'pandas.core.frame.DataFrame'>\n",
      "RangeIndex: 1936758 entries, 0 to 1936757\n",
      "Data columns (total 29 columns):\n",
      " #   Column             Dtype  \n",
      "---  ------             -----  \n",
      " 0   Year               int64  \n",
      " 1   Month              int64  \n",
      " 2   DayofMonth         int64  \n",
      " 3   DayOfWeek          int64  \n",
      " 4   DepTime            float64\n",
      " 5   CRSDepTime         int64  \n",
      " 6   ArrTime            float64\n",
      " 7   CRSArrTime         int64  \n",
      " 8   UniqueCarrier      object \n",
      " 9   FlightNum          int64  \n",
      " 10  TailNum            object \n",
      " 11  ActualElapsedTime  float64\n",
      " 12  CRSElapsedTime     float64\n",
      " 13  AirTime            float64\n",
      " 14  ArrDelay           float64\n",
      " 15  DepDelay           float64\n",
      " 16  Origin             object \n",
      " 17  Dest               object \n",
      " 18  Distance           int64  \n",
      " 19  TaxiIn             float64\n",
      " 20  TaxiOut            float64\n",
      " 21  Cancelled          int64  \n",
      " 22  CancellationCode   object \n",
      " 23  Diverted           int64  \n",
      " 24  CarrierDelay       float64\n",
      " 25  WeatherDelay       float64\n",
      " 26  NASDelay           float64\n",
      " 27  SecurityDelay      float64\n",
      " 28  LateAircraftDelay  float64\n",
      "dtypes: float64(14), int64(10), object(5)\n",
      "memory usage: 428.5+ MB\n"
     ]
    }
   ],
   "source": [
    "file.info()"
   ]
  },
  {
   "cell_type": "code",
   "execution_count": 13,
   "metadata": {},
   "outputs": [],
   "source": [
    "# Pasamos a GRAFICAR: a través de la matriz de correlación podemos ver cómo algunas de las 29 variables del conjunto de datos \n",
    "# presentan multicolinealidad, es decir, pueden predecirse linealmente a partir de las demás."
   ]
  },
  {
   "cell_type": "code",
   "execution_count": 13,
   "metadata": {},
   "outputs": [
    {
     "data": {
      "image/png": "[encoded data removed]",
      "text/plain": [
       "<Figure size 864x648 with 2 Axes>"
      ]
     },
     "metadata": {
      "needs_background": "light"
     },
     "output_type": "display_data"
    }
   ],
   "source": [
    "# Matriz de correlación  #\n",
    "\n",
    "corrmat = file.corr()\n",
    "f, ax = plt.subplots(figsize=(12, 9))\n",
    "sns.heatmap(corrmat, vmax=.8, square=True);\n",
    "plt.show()"
   ]
  },
  {
   "cell_type": "code",
   "execution_count": 12,
   "metadata": {},
   "outputs": [
    {
     "name": "stderr",
     "output_type": "stream",
     "text": [
      "c:\\users\\marta\\appdata\\local\\programs\\python\\python37\\lib\\site-packages\\seaborn\\axisgrid.py:1969: UserWarning: The `size` parameter has been renamed to `height`; please update your code.\n",
      "  warnings.warn(msg, UserWarning)\n"
     ]
    },
    {
     "data": {
      "image/png": "[encoded data removed]",
      "text/plain": [
       "<Figure size 900x900 with 30 Axes>"
      ]
     },
     "metadata": {},
     "output_type": "display_data"
    }
   ],
   "source": [
    "# Scatterplot #\n",
    "\n",
    "# La matriz de correlación anterior indentifica las tres variables principales que generan los retrasos: Late Aircraft Delay, \n",
    "# Carrier Delay and NAS Delay. El scatterplot corrobora este supuesto, mostrando cómo esas tres variables crean la mayoría de \n",
    "# los retrasos durante el año.\n",
    "\n",
    "# Antes de graficar, creamos la columna Status que representa si el vuela llegó en hora (0), con un poco retrasado (1), \n",
    "# con mucho retrasado (2), desviado (3) o cancelado (4)\n",
    "\n",
    "for dataset in file:\n",
    "    file.loc[file['ArrDelay'] <= 15, 'Status'] = 0\n",
    "    file.loc[file['ArrDelay'] >= 15, 'Status'] = 1\n",
    "    file.loc[file['ArrDelay'] >= 60, 'Status'] = 2\n",
    "    file.loc[file['Diverted'] == 1, 'Status'] = 3\n",
    "    file.loc[file['Cancelled'] == 1, 'Status'] = 4\n",
    "\n",
    "sns.set()\n",
    "Delayedflights = file[(file.Status >= 1) & (file.Status < 3)]\n",
    "cols = ['ArrDelay', 'CarrierDelay', 'LateAircraftDelay', 'NASDelay', 'WeatherDelay']\n",
    "sns.pairplot(Delayedflights[cols], size = 2.5)\n",
    "plt.show()"
   ]
  },
  {
   "cell_type": "code",
   "execution_count": 31,
   "metadata": {},
   "outputs": [
    {
     "name": "stdout",
     "output_type": "stream",
     "text": [
      "Total Number of NaN values: \n",
      "Year                      0\n",
      "Month                     0\n",
      "DayofMonth                0\n",
      "DayOfWeek                 0\n",
      "DepTime                   0\n",
      "CRSDepTime                0\n",
      "ArrTime                7110\n",
      "CRSArrTime                0\n",
      "UniqueCarrier             0\n",
      "FlightNum                 0\n",
      "TailNum                   5\n",
      "ActualElapsedTime      8387\n",
      "CRSElapsedTime          198\n",
      "AirTime                8387\n",
      "ArrDelay               8387\n",
      "DepDelay                  0\n",
      "Origin                    0\n",
      "Dest                      0\n",
      "Distance                  0\n",
      "TaxiIn                 7110\n",
      "TaxiOut                 455\n",
      "Cancelled                 0\n",
      "CancellationCode          0\n",
      "Diverted                  0\n",
      "CarrierDelay         689270\n",
      "WeatherDelay         689270\n",
      "NASDelay             689270\n",
      "SecurityDelay        689270\n",
      "LateAircraftDelay    689270\n",
      "dtype: int64\n"
     ]
    }
   ],
   "source": [
    "# Comprabamos las columnas que tienen valores NaN, ya que los modelos de regresión en python no aceptan estos valores.\n",
    "\n",
    "total_nan_values = file.isna().sum()\n",
    "print (\"Total Number of NaN values: \"+'\\n'+str(total_nan_values))"
   ]
  },
  {
   "cell_type": "code",
   "execution_count": 32,
   "metadata": {},
   "outputs": [],
   "source": [
    "# De momento, reemplazamos los valores faltantes en ArrDelay por la media aritmética de la respectiva variable para evitar \n",
    "# pérdida de datos, ya que sabemos que seguro vamos a utilizar dicha variable. \n",
    "\n",
    "file['ArrDelay']=file['ArrDelay'].fillna(file['ArrDelay'].mean())"
   ]
  },
  {
   "cell_type": "code",
   "execution_count": 33,
   "metadata": {},
   "outputs": [
    {
     "name": "stdout",
     "output_type": "stream",
     "text": [
      "Total Number of NaN values: \n",
      "0\n"
     ]
    }
   ],
   "source": [
    "# Comprobamos que la variable ArrDelay ya no tiene valores NaN.\n",
    "\n",
    "total_nan_values = file['ArrDelay'].isna().sum()\n",
    "print (\"Total Number of NaN values: \"+'\\n'+str(total_nan_values))"
   ]
  },
  {
   "cell_type": "markdown",
   "metadata": {},
   "source": [
    "### <span style=\"color:black\">Exercici 1.</span>"
   ]
  },
  {
   "cell_type": "markdown",
   "metadata": {},
   "source": [
    "__Crea almenys tres models de classificació diferents per intentar predir el millor possible l’endarreriment dels vols (ArrDelay) de DelayedFlights.csv. Considera si el vol ha arribat tard o no (ArrDelay > 0):__ <span style=\"color:blue\">__[X] Fet__</span>"
   ]
  },
  {
   "cell_type": "code",
   "execution_count": 21,
   "metadata": {},
   "outputs": [],
   "source": [
    "# VAMOS A REALIZAR 3 MODELOS DE REGRESIÓN: ÁRBOL DE DECISIÓN, REGRESIÓN LOGÍSTICA Y KNN #"
   ]
  },
  {
   "cell_type": "code",
   "execution_count": 36,
   "metadata": {},
   "outputs": [],
   "source": [
    "# Antes de comenzar, y como requiere el enunciado, vamos a convertir ArrDelay en un target cuyos valores serán 0 (si llegó en\n",
    "# o con antelación a la hora prevista) y 1 (si el vuelo llegó con retraso). A este target le llamaremos 'labeldelay'.\n",
    "\n",
    "condiciones = [(file.ArrDelay == 0) & (file.ArrDelay < 0), # si el vuelo llega en hora o con antelación\n",
    "               (file.ArrDelay > 0)] # si el vuelo llega con retraso\n",
    "elecciones = np.array(('0', '1'), dtype=\"int64\") # 0: sin retraso ; 1: con retraso\n",
    "\n",
    "file[\"labeldelay\"] = np.select(condiciones, elecciones) # creamos la nueva columna "
   ]
  },
  {
   "cell_type": "code",
   "execution_count": 37,
   "metadata": {},
   "outputs": [
    {
     "data": {
      "text/plain": [
       "1    1731802\n",
       "0     204956\n",
       "Name: labeldelay, dtype: int64"
      ]
     },
     "execution_count": 37,
     "metadata": {},
     "output_type": "execute_result"
    }
   ],
   "source": [
    "# Vamos a comprobar si nuestra variable target está desbalanceada\n",
    "\n",
    "file[\"labeldelay\"].value_counts()"
   ]
  },
  {
   "cell_type": "code",
   "execution_count": 19,
   "metadata": {},
   "outputs": [
    {
     "data": {
      "text/plain": [
       "<AxesSubplot:xlabel='labeldelay', ylabel='count'>"
      ]
     },
     "execution_count": 19,
     "metadata": {},
     "output_type": "execute_result"
    },
    {
     "data": {
      "image/png": "[encoded data removed]",
      "text/plain": [
       "<Figure size 432x288 with 1 Axes>"
      ]
     },
     "metadata": {
      "needs_background": "light"
     },
     "output_type": "display_data"
    }
   ],
   "source": [
    "# Visualizamos la variable y vemos que así es. Esto tendrá repercusiones a la hora de comprobar el Accuracy de los modelos, por \n",
    "# lo que vamos ha intentar balancear los datos cuando ejecutemos los algoritmos. En Random Forest y en Regresión Logística \n",
    "# utilizaré un parámetro adicional \"weight = 'balanced'\" y con esto el algoritmo se encargará de equilibrar a la clase \n",
    "# minoritaria durante el entrenamiento. En cuando a KNN, voy a RandomOverSampler() para hacer un oversampling de la clase \n",
    "# minoritaria, es decir, de los vuelos que han llegado a tiempo&con antelación. \n",
    "\n",
    "sns.countplot (x = file[\"labeldelay\"]) "
   ]
  },
  {
   "cell_type": "code",
   "execution_count": 129,
   "metadata": {},
   "outputs": [],
   "source": [
    "# ÁRBOL DE DECISIÓN #"
   ]
  },
  {
   "cell_type": "code",
   "execution_count": 20,
   "metadata": {},
   "outputs": [],
   "source": [
    "X= np.array(file['DepDelay']).reshape((-1, 1)) # features (retraso en la salida)\n",
    "y= file['labeldelay'] # target (nos dice si el avión llegó o no llegó con retraso)"
   ]
  },
  {
   "cell_type": "code",
   "execution_count": 21,
   "metadata": {
    "scrolled": true
   },
   "outputs": [
    {
     "data": {
      "text/plain": [
       "((1936758, 1), (1936758,))"
      ]
     },
     "execution_count": 21,
     "metadata": {},
     "output_type": "execute_result"
    }
   ],
   "source": [
    "X.shape, y.shape"
   ]
  },
  {
   "cell_type": "code",
   "execution_count": 22,
   "metadata": {},
   "outputs": [],
   "source": [
    "X_train, X_test, y_train, y_test_clf = train_test_split(X, y, test_size=0.20)"
   ]
  },
  {
   "cell_type": "code",
   "execution_count": 23,
   "metadata": {},
   "outputs": [],
   "source": [
    "clf = DecisionTreeClassifier(class_weight=\"balanced\").fit(X_train, y_train) # Añadimos el parámetro class_weight\" para penalizar\n",
    "                                                                            # la clase mayoritaria."
   ]
  },
  {
   "cell_type": "code",
   "execution_count": 24,
   "metadata": {
    "scrolled": true
   },
   "outputs": [
    {
     "name": "stdout",
     "output_type": "stream",
     "text": [
      "predicted response:\n",
      "[1 1 1 ... 0 0 0]\n"
     ]
    }
   ],
   "source": [
    "y_pred_clf = clf.predict(X_test)\n",
    "print('predicted response:', y_pred_clf, sep='\\n')"
   ]
  },
  {
   "cell_type": "code",
   "execution_count": 25,
   "metadata": {},
   "outputs": [
    {
     "data": {
      "text/plain": [
       "((387352,), (387352,))"
      ]
     },
     "execution_count": 25,
     "metadata": {},
     "output_type": "execute_result"
    }
   ],
   "source": [
    "y_test_clf.shape, y_pred_clf.shape"
   ]
  },
  {
   "cell_type": "code",
   "execution_count": 26,
   "metadata": {},
   "outputs": [
    {
     "name": "stdout",
     "output_type": "stream",
     "text": [
      "Accuracy: 0.7207733534356348\n"
     ]
    }
   ],
   "source": [
    "print(\"Accuracy:\",metrics.accuracy_score(y_test_clf, y_pred_clf))"
   ]
  },
  {
   "cell_type": "markdown",
   "metadata": {},
   "source": [
    "     "
   ]
  },
  {
   "cell_type": "code",
   "execution_count": 27,
   "metadata": {},
   "outputs": [],
   "source": [
    "# REGRESIÓN LOGÍSTICA #"
   ]
  },
  {
   "cell_type": "code",
   "execution_count": 28,
   "metadata": {},
   "outputs": [],
   "source": [
    "X= np.array(file['DepDelay']).reshape((-1, 1)) # features (retraso en la salida)\n",
    "y= file['labeldelay'] # target (nos dice si el avión llegó o no llegó con retraso)"
   ]
  },
  {
   "cell_type": "code",
   "execution_count": 29,
   "metadata": {},
   "outputs": [],
   "source": [
    "X_train, X_test, y_train, y_test_logreg = train_test_split(X, y, test_size=0.20, random_state=0)"
   ]
  },
  {
   "cell_type": "code",
   "execution_count": 30,
   "metadata": {},
   "outputs": [],
   "source": [
    "logreg = LogisticRegression(class_weight=\"balanced\").fit(X_train, y_train) # Añadimos el parámetro class_weight\" para penalizar\n",
    "                                                                            # la clase mayoritaria."
   ]
  },
  {
   "cell_type": "code",
   "execution_count": 31,
   "metadata": {},
   "outputs": [
    {
     "name": "stdout",
     "output_type": "stream",
     "text": [
      "predicted response:\n",
      "[1 0 1 ... 1 1 1]\n"
     ]
    }
   ],
   "source": [
    "y_pred_logreg = logreg.predict(X_test)\n",
    "print('predicted response:', y_pred_logreg, sep='\\n')"
   ]
  },
  {
   "cell_type": "code",
   "execution_count": 32,
   "metadata": {},
   "outputs": [
    {
     "data": {
      "text/plain": [
       "((387352,), (387352,))"
      ]
     },
     "execution_count": 32,
     "metadata": {},
     "output_type": "execute_result"
    }
   ],
   "source": [
    "y_test_logreg.shape, y_pred_logreg.shape"
   ]
  },
  {
   "cell_type": "code",
   "execution_count": 33,
   "metadata": {},
   "outputs": [
    {
     "name": "stdout",
     "output_type": "stream",
     "text": [
      "Accuracy: 0.7212509552035358\n"
     ]
    }
   ],
   "source": [
    "print(\"Accuracy:\",metrics.accuracy_score(y_test_logreg, y_pred_logreg))"
   ]
  },
  {
   "cell_type": "markdown",
   "metadata": {},
   "source": [
    "    "
   ]
  },
  {
   "cell_type": "code",
   "execution_count": null,
   "metadata": {},
   "outputs": [],
   "source": [
    "# KNN "
   ]
  },
  {
   "cell_type": "code",
   "execution_count": null,
   "metadata": {},
   "outputs": [],
   "source": [
    "# Como tengo falta de memoria y el dataset es muy largo, en este algoritmo he extraído una muestra aleatoria del 15% (a partir\n",
    "# del 10% una muestra se considera representativa de la población) y he aplicado un train/test."
   ]
  },
  {
   "cell_type": "code",
   "execution_count": 34,
   "metadata": {},
   "outputs": [],
   "source": [
    "df = pd.DataFrame()\n",
    "df['X'] = file['DepDelay'] #variable independiente (retraso en la salida)\n",
    "df['y'] = file['labeldelay'] #variable dependiente (retraso en la llegada)"
   ]
  },
  {
   "cell_type": "code",
   "execution_count": 35,
   "metadata": {},
   "outputs": [],
   "source": [
    "df = df.sample(frac=0.15) # extraemos una muestra aleatoria del 15%, así nos aseguramos que es lo suficientemente representativa"
   ]
  },
  {
   "cell_type": "code",
   "execution_count": 36,
   "metadata": {},
   "outputs": [],
   "source": [
    "X= np.array(df['X']).reshape((-1, 1)) # features (retraso en la salida)\n",
    "y= df['y'] # target (nos dice si el avión llegó o no llegó con retraso)"
   ]
  },
  {
   "cell_type": "code",
   "execution_count": 37,
   "metadata": {},
   "outputs": [],
   "source": [
    "X_train, X_test, y_train, y_test_knn = train_test_split(X, y, test_size=0.20)"
   ]
  },
  {
   "cell_type": "code",
   "execution_count": 38,
   "metadata": {},
   "outputs": [
    {
     "name": "stdout",
     "output_type": "stream",
     "text": [
      "Distribution before resampling Counter({1: 207908, 0: 24503})\n",
      "Distribution labels after resampling Counter({1: 207908, 0: 207908})\n"
     ]
    }
   ],
   "source": [
    "os =  RandomOverSampler()\n",
    "X_train_res, y_train_res = os.fit_resample(X_train, y_train)\n",
    " \n",
    "print (\"Distribution before resampling {}\".format(Counter(y_train)))\n",
    "print (\"Distribution labels after resampling {}\".format(Counter(y_train_res)))"
   ]
  },
  {
   "cell_type": "code",
   "execution_count": 39,
   "metadata": {},
   "outputs": [],
   "source": [
    "knn_clf = KNeighborsClassifier(n_neighbors=5).fit(X_train_res, y_train_res)"
   ]
  },
  {
   "cell_type": "code",
   "execution_count": 40,
   "metadata": {
    "scrolled": true
   },
   "outputs": [
    {
     "name": "stdout",
     "output_type": "stream",
     "text": [
      "predicted response:\n",
      "[1 1 1 ... 0 0 1]\n"
     ]
    }
   ],
   "source": [
    "y_pred_knn= knn_clf.predict(X_test)\n",
    "print('predicted response:', y_pred_knn, sep='\\n')"
   ]
  },
  {
   "cell_type": "code",
   "execution_count": 42,
   "metadata": {},
   "outputs": [
    {
     "data": {
      "text/plain": [
       "((58103,), (58103,))"
      ]
     },
     "execution_count": 42,
     "metadata": {},
     "output_type": "execute_result"
    }
   ],
   "source": [
    "y_test_knn.shape, y_pred_knn.shape"
   ]
  },
  {
   "cell_type": "code",
   "execution_count": 43,
   "metadata": {},
   "outputs": [
    {
     "name": "stdout",
     "output_type": "stream",
     "text": [
      "Accuracy: 0.7166927697365024\n"
     ]
    }
   ],
   "source": [
    "print(\"Accuracy:\",metrics.accuracy_score(y_test_knn, y_pred_knn))"
   ]
  },
  {
   "cell_type": "markdown",
   "metadata": {},
   "source": [
    "     "
   ]
  },
  {
   "cell_type": "markdown",
   "metadata": {},
   "source": [
    "### <span style=\"color:black\">Exercici 2.</span>"
   ]
  },
  {
   "cell_type": "markdown",
   "metadata": {},
   "source": [
    "__Compara els models de classificació utilitzant la precisió (accuracy), una matriu de confussió i d’altres mètriques més avançades:__ <span style=\"color:blue\">__[X] Fet__</span>"
   ]
  },
  {
   "cell_type": "code",
   "execution_count": null,
   "metadata": {},
   "outputs": [],
   "source": [
    "# CONFUSSION MATRIX #"
   ]
  },
  {
   "cell_type": "code",
   "execution_count": 44,
   "metadata": {},
   "outputs": [
    {
     "name": "stdout",
     "output_type": "stream",
     "text": [
      "[[ 36562   4278]\n",
      " [103881 242631]]\n"
     ]
    }
   ],
   "source": [
    "# Lo fundamental de una matriz de confusión es el número de predicciones correctas e incorrectas, que se resumen por clases.\n",
    "# Los valores diagonales representan predicciones precisas, mientras que los elementos no diagonales son predicciones inexactas.\n",
    "# En el caso del Arbol de Decisión, de los 387.352 vuelos que forman parte de nuestra muestra, 36934 predijimos correctamente \n",
    "# quenllegaron a su hora y 242.286 predijimos correctamente que llegaron con retraso. Sin embargo, predijimos incorrectamente \n",
    "# que 103.950 llegaron con retraso y que 4.182 llegaron a tiempo.\n",
    "\n",
    "cm_clf = metrics.confusion_matrix(y_test_clf, y_pred_clf)\n",
    "print(cm_clf)"
   ]
  },
  {
   "cell_type": "code",
   "execution_count": 45,
   "metadata": {},
   "outputs": [
    {
     "data": {
      "text/plain": [
       "Text(0.5, 257.44, 'Predicted label')"
      ]
     },
     "execution_count": 45,
     "metadata": {},
     "output_type": "execute_result"
    },
    {
     "data": {
      "image/png": "[encoded data removed]",
      "text/plain": [
       "<Figure size 432x288 with 2 Axes>"
      ]
     },
     "metadata": {
      "needs_background": "light"
     },
     "output_type": "display_data"
    }
   ],
   "source": [
    "# Visualización de la matriz de confusión\n",
    "\n",
    "class_names=[0,1] # name  of classes\n",
    "fig, ax = plt.subplots()\n",
    "tick_marks = np.arange(len(class_names))\n",
    "plt.xticks(tick_marks, class_names)\n",
    "plt.yticks(tick_marks, class_names)\n",
    "\n",
    "# Creamos el heatmap \n",
    "\n",
    "sns.heatmap(pd.DataFrame(cm_clf), annot=True, cmap=\"YlGnBu\" ,fmt='g')\n",
    "ax.xaxis.set_label_position(\"top\")\n",
    "plt.tight_layout()\n",
    "plt.title('Confusion matrix', y=1.1)\n",
    "plt.ylabel('Actual label')\n",
    "plt.xlabel('Predicted label')"
   ]
  },
  {
   "cell_type": "code",
   "execution_count": 46,
   "metadata": {},
   "outputs": [
    {
     "name": "stdout",
     "output_type": "stream",
     "text": [
      "[[ 36619   4232]\n",
      " [103742 242759]]\n"
     ]
    }
   ],
   "source": [
    "cm_logreg = metrics.confusion_matrix(y_test_logreg, y_pred_logreg)\n",
    "print(cm_logreg)"
   ]
  },
  {
   "cell_type": "code",
   "execution_count": 47,
   "metadata": {},
   "outputs": [
    {
     "data": {
      "text/plain": [
       "Text(0.5, 257.44, 'Predicted label')"
      ]
     },
     "execution_count": 47,
     "metadata": {},
     "output_type": "execute_result"
    },
    {
     "data": {
      "image/png": "[encoded data removed]",
      "text/plain": [
       "<Figure size 432x288 with 2 Axes>"
      ]
     },
     "metadata": {
      "needs_background": "light"
     },
     "output_type": "display_data"
    }
   ],
   "source": [
    "# Visualización de la matriz de confusión\n",
    "\n",
    "class_names=[0,1] # name  of classes\n",
    "fig, ax = plt.subplots()\n",
    "tick_marks = np.arange(len(class_names))\n",
    "plt.xticks(tick_marks, class_names)\n",
    "plt.yticks(tick_marks, class_names)\n",
    "\n",
    "# Creamos el heatmap \n",
    "\n",
    "sns.heatmap(pd.DataFrame(cm_logreg), annot=True, cmap=\"YlGnBu\" ,fmt='g')\n",
    "ax.xaxis.set_label_position(\"top\")\n",
    "plt.tight_layout()\n",
    "plt.title('Confusion matrix', y=1.1)\n",
    "plt.ylabel('Actual label')\n",
    "plt.xlabel('Predicted label')"
   ]
  },
  {
   "cell_type": "code",
   "execution_count": 48,
   "metadata": {},
   "outputs": [
    {
     "name": "stdout",
     "output_type": "stream",
     "text": [
      "[[ 4847  1239]\n",
      " [15222 36795]]\n"
     ]
    }
   ],
   "source": [
    "cm_knn = metrics.confusion_matrix(y_test_knn, y_pred_knn)\n",
    "print(cm_knn)"
   ]
  },
  {
   "cell_type": "code",
   "execution_count": 49,
   "metadata": {},
   "outputs": [
    {
     "data": {
      "text/plain": [
       "Text(0.5, 257.44, 'Predicted label')"
      ]
     },
     "execution_count": 49,
     "metadata": {},
     "output_type": "execute_result"
    },
    {
     "data": {
      "image/png": "[encoded data removed]",
      "text/plain": [
       "<Figure size 432x288 with 2 Axes>"
      ]
     },
     "metadata": {
      "needs_background": "light"
     },
     "output_type": "display_data"
    }
   ],
   "source": [
    "# Visualización de la matriz de confusión\n",
    "\n",
    "class_names=[0,1] # name  of classes\n",
    "fig, ax = plt.subplots()\n",
    "tick_marks = np.arange(len(class_names))\n",
    "plt.xticks(tick_marks, class_names)\n",
    "plt.yticks(tick_marks, class_names)\n",
    "\n",
    "# Creamos el heatmap \n",
    "\n",
    "sns.heatmap(pd.DataFrame(cm_knn), annot=True, cmap=\"YlGnBu\" ,fmt='g')\n",
    "ax.xaxis.set_label_position(\"top\")\n",
    "plt.tight_layout()\n",
    "plt.title('Confusion matrix', y=1.1)\n",
    "plt.ylabel('Actual label')\n",
    "plt.xlabel('Predicted label')"
   ]
  },
  {
   "cell_type": "markdown",
   "metadata": {},
   "source": [
    "    "
   ]
  },
  {
   "cell_type": "code",
   "execution_count": 214,
   "metadata": {},
   "outputs": [],
   "source": [
    "# COMPARACIÓN EN BASE A ACCURACY # "
   ]
  },
  {
   "cell_type": "code",
   "execution_count": 215,
   "metadata": {},
   "outputs": [],
   "source": [
    "# Ya lo calculé en el ejercicio anterior, pero igualmente incluyo el resultado en el presente ejercicio. "
   ]
  },
  {
   "cell_type": "code",
   "execution_count": 50,
   "metadata": {},
   "outputs": [
    {
     "name": "stdout",
     "output_type": "stream",
     "text": [
      "Accuracy in DecitionTree: 0.7207733534356348\n",
      "Accuracy in Logistic Regression: 0.7212509552035358\n",
      "Accuracy in KNN: 0.7166927697365024\n"
     ]
    }
   ],
   "source": [
    "print('Accuracy in DecitionTree:', metrics.accuracy_score(y_test_clf, y_pred_clf)) \n",
    "print('Accuracy in Logistic Regression:', metrics.accuracy_score(y_test_logreg, y_pred_logreg)) \n",
    "print('Accuracy in KNN:', metrics.accuracy_score(y_test_knn, y_pred_knn)) "
   ]
  },
  {
   "cell_type": "code",
   "execution_count": null,
   "metadata": {},
   "outputs": [],
   "source": [
    "# Como mentaba en el ejercicio 1, la métrica accuracy (exactitud) no funciona bien cuando las clases están desbalanceadas como \n",
    "# es en este caso. La mayoría de los vuelos llegan tarde, así que es muy fácil predecir diciendo que los vuelos van a llegar con\n",
    "# cierto retraso. Para problemas con clases desbalanceadas es mucho mejor usar precision, recall y F1. Estas métricas dan una \n",
    "# mejor idea de la calidad del modelo. Las vemos a continuación. "
   ]
  },
  {
   "cell_type": "markdown",
   "metadata": {},
   "source": [
    "      "
   ]
  },
  {
   "cell_type": "code",
   "execution_count": null,
   "metadata": {},
   "outputs": [],
   "source": [
    "# PRECISIÓN DEL MODELO # "
   ]
  },
  {
   "cell_type": "code",
   "execution_count": 158,
   "metadata": {},
   "outputs": [],
   "source": [
    "# La precisión nos dice qué tan exacto es el modelo. En otras palabras, cuando un modelo hace una predicción nos dice con \n",
    "# qué frecuencia es correcta."
   ]
  },
  {
   "cell_type": "code",
   "execution_count": 51,
   "metadata": {},
   "outputs": [
    {
     "name": "stdout",
     "output_type": "stream",
     "text": [
      "Precision in DecitionTree: 0.982673778598593\n",
      "Precision in Logistic Regression: 0.9828657724370523\n",
      "Precision in Logistic Regression: 0.9674238838933585\n"
     ]
    }
   ],
   "source": [
    "print(\"Precision in DecitionTree:\",metrics.precision_score(y_test_clf, y_pred_clf))\n",
    "print('Precision in Logistic Regression:', metrics.precision_score(y_test_logreg, y_pred_logreg)) \n",
    "print('Precision in Logistic Regression:', metrics.precision_score(y_test_knn, y_pred_knn)) "
   ]
  },
  {
   "cell_type": "markdown",
   "metadata": {},
   "source": [
    "   "
   ]
  },
  {
   "cell_type": "code",
   "execution_count": null,
   "metadata": {},
   "outputs": [],
   "source": [
    "# EXHAUSTIVIDAD DEL MODELO # "
   ]
  },
  {
   "cell_type": "code",
   "execution_count": 159,
   "metadata": {},
   "outputs": [],
   "source": [
    "# La métrica de exhaustividad nos informa sobre la cantidad que el modelo de machine learning es capaz de identificar. Por \n",
    "# ejemplo, si tenemos un recall de 0.77 en KNN, eso significa que si hay vuelos con retraso, el modelo puede identificarlo \n",
    "# el 77% de las veces."
   ]
  },
  {
   "cell_type": "code",
   "execution_count": 52,
   "metadata": {},
   "outputs": [
    {
     "name": "stdout",
     "output_type": "stream",
     "text": [
      "Recall in DecitionTree:: 0.7002095165535392\n",
      "Recall in Logistic Regression: 0.700601152666226\n",
      "Recall in KNN: 0.7073648999365592\n"
     ]
    }
   ],
   "source": [
    "print(\"Recall in DecitionTree::\",metrics.recall_score(y_test_clf, y_pred_clf))\n",
    "print(\"Recall in Logistic Regression:\",metrics.recall_score(y_test_logreg, y_pred_logreg))\n",
    "print(\"Recall in KNN:\",metrics.recall_score(y_test_knn, y_pred_knn))"
   ]
  },
  {
   "cell_type": "markdown",
   "metadata": {},
   "source": [
    "    "
   ]
  },
  {
   "cell_type": "code",
   "execution_count": null,
   "metadata": {},
   "outputs": [],
   "source": [
    "# F1 SCORE DEL MODELO #"
   ]
  },
  {
   "cell_type": "code",
   "execution_count": null,
   "metadata": {},
   "outputs": [],
   "source": [
    "# El valor F1 se utiliza para combinar las medidas de precision y recall en un sólo valor. ¡CUIDADO! El valor F1 asume que nos \n",
    "# importa de igual forma la precisión y la exhaustividad (recall). Esto no tiene que ser así en todos los problemas."
   ]
  },
  {
   "cell_type": "code",
   "execution_count": 53,
   "metadata": {},
   "outputs": [
    {
     "name": "stdout",
     "output_type": "stream",
     "text": [
      "F1 in DecitionTree:: 0.8177364805087787\n",
      "F1 in Logistic Regression: 0.8180699992586252\n",
      "F1 in KNN: 0.8172035846353732\n"
     ]
    }
   ],
   "source": [
    "print(\"F1 in DecitionTree::\",metrics.f1_score(y_test_clf, y_pred_clf))\n",
    "print(\"F1 in Logistic Regression:\",metrics.f1_score(y_test_logreg, y_pred_logreg))\n",
    "print(\"F1 in KNN:\",metrics.f1_score(y_test_knn, y_pred_knn))"
   ]
  },
  {
   "cell_type": "markdown",
   "metadata": {},
   "source": [
    "    "
   ]
  },
  {
   "cell_type": "code",
   "execution_count": null,
   "metadata": {},
   "outputs": [],
   "source": [
    "# NOTA. Una forma de ver resumidos las 3 métricas anteriores es con 'classification_report'. Vemos a continuación un ejemplo\n",
    "# con el algoritmo KNN."
   ]
  },
  {
   "cell_type": "code",
   "execution_count": 54,
   "metadata": {
    "scrolled": true
   },
   "outputs": [
    {
     "name": "stdout",
     "output_type": "stream",
     "text": [
      "              precision    recall  f1-score   support\n",
      "\n",
      "           0       0.24      0.80      0.37      6086\n",
      "           1       0.97      0.71      0.82     52017\n",
      "\n",
      "    accuracy                           0.72     58103\n",
      "   macro avg       0.60      0.75      0.59     58103\n",
      "weighted avg       0.89      0.72      0.77     58103\n",
      "\n"
     ]
    }
   ],
   "source": [
    "print(classification_report(y_test_knn, y_pred_knn))"
   ]
  },
  {
   "cell_type": "markdown",
   "metadata": {},
   "source": [
    "### <span style=\"color:black\">Exercici 3.</span>"
   ]
  },
  {
   "cell_type": "markdown",
   "metadata": {},
   "source": [
    "__Entrena’ls utilitzant els diferents paràmetres que admeten:__ <span style=\"color:blue\">__[X] Fet__</span>"
   ]
  },
  {
   "cell_type": "code",
   "execution_count": null,
   "metadata": {},
   "outputs": [],
   "source": [
    "# ÁRBOL DE DECISIÓN #"
   ]
  },
  {
   "cell_type": "code",
   "execution_count": 55,
   "metadata": {},
   "outputs": [],
   "source": [
    "#Cargamos las variables de nuevo y aplicamos train/test\n",
    "\n",
    "X= np.array(file['DepDelay']).reshape((-1, 1)) # features (retraso en la salida)\n",
    "y= file['labeldelay'] # target (nos dice si el avión llegó o no llegó con retraso)"
   ]
  },
  {
   "cell_type": "code",
   "execution_count": 56,
   "metadata": {},
   "outputs": [],
   "source": [
    "X_train, X_test, y_train, y_test_clf = train_test_split(X, y, test_size=0.20)"
   ]
  },
  {
   "cell_type": "code",
   "execution_count": 57,
   "metadata": {},
   "outputs": [
    {
     "name": "stdout",
     "output_type": "stream",
     "text": [
      "Accuracy: 0.8942512236931783\n",
      "Precision in DecitionTree: 0.8942512236931783\n"
     ]
    }
   ],
   "source": [
    "# Entrenamos el modelo utilizando los parámetros por defecto, y vemos que el Accuracy ha mejorado, aunque nos da un resultado\n",
    "# engañoso: ya hemos comentado en este mismo notebook que no esta métrica no funciona bien cuando las clases están \n",
    "# desbalanceadas.\n",
    "\n",
    "clf = DecisionTreeClassifier().fit(X_train, y_train) \n",
    "y_pred_clf = clf.predict(X_test)\n",
    "print(\"Accuracy:\",metrics.accuracy_score(y_test_clf, y_pred_clf)) \n",
    "print(\"Precision in DecitionTree:\",metrics.precision_score(y_test_clf, y_pred_clf))"
   ]
  },
  {
   "cell_type": "code",
   "execution_count": 58,
   "metadata": {},
   "outputs": [
    {
     "name": "stdout",
     "output_type": "stream",
     "text": [
      "Accuracy: 0.6548823808835375\n",
      "Precision in DecitionTree: 0.9912878787878788\n"
     ]
    }
   ],
   "source": [
    "# Entrenamos el modelo variando los parámetros\n",
    "\n",
    "clf = DecisionTreeClassifier(class_weight=\"balanced\", criterion=\"entropy\", max_depth=1).fit(X_train, y_train) \n",
    "y_pred_clf = clf.predict(X_test)\n",
    "print(\"Accuracy:\",metrics.accuracy_score(y_test_clf, y_pred_clf)) \n",
    "print(\"Precision in DecitionTree:\",metrics.precision_score(y_test_clf, y_pred_clf))"
   ]
  },
  {
   "cell_type": "code",
   "execution_count": 59,
   "metadata": {},
   "outputs": [
    {
     "name": "stdout",
     "output_type": "stream",
     "text": [
      "Accuracy: 0.7213852000247837\n",
      "Precision in DecitionTree: 0.9827600168431964\n"
     ]
    }
   ],
   "source": [
    "# Entrenamos el modelo variando los parámetros\n",
    "\n",
    "clf = DecisionTreeClassifier(class_weight=\"balanced\").fit(X_train, y_train) \n",
    "y_pred_clf = clf.predict(X_test)\n",
    "print(\"Accuracy:\",metrics.accuracy_score(y_test_clf, y_pred_clf)) \n",
    "print(\"Precision in DecitionTree:\",metrics.precision_score(y_test_clf, y_pred_clf))"
   ]
  },
  {
   "cell_type": "code",
   "execution_count": 60,
   "metadata": {},
   "outputs": [
    {
     "name": "stdout",
     "output_type": "stream",
     "text": [
      "Accuracy: 0.7581682810466965\n",
      "Precision in DecitionTree: 0.9755986480077686\n"
     ]
    }
   ],
   "source": [
    "# Entrenamos el modelo variando los parámetros\n",
    "\n",
    "clf = DecisionTreeClassifier(class_weight=\"balanced\", criterion='gini', max_depth=3, min_samples_split=5).fit(X_train, y_train) \n",
    "y_pred_clf = clf.predict(X_test)\n",
    "print(\"Accuracy:\",metrics.accuracy_score(y_test_clf, y_pred_clf)) \n",
    "print(\"Precision in DecitionTree:\",metrics.precision_score(y_test_clf, y_pred_clf))"
   ]
  },
  {
   "cell_type": "markdown",
   "metadata": {},
   "source": [
    "    "
   ]
  },
  {
   "cell_type": "code",
   "execution_count": 319,
   "metadata": {},
   "outputs": [],
   "source": [
    "# REGRESIÓN LOGÍSTICA #"
   ]
  },
  {
   "cell_type": "code",
   "execution_count": 61,
   "metadata": {},
   "outputs": [],
   "source": [
    "#Cargamos las variables de nuevo y aplicamos train/test\n",
    "\n",
    "X= np.array(file['DepDelay']).reshape((-1, 1)) # features (retraso en la salida)\n",
    "y= file['labeldelay'] # target (nos dice si el avión llegó o no llegó con retraso)"
   ]
  },
  {
   "cell_type": "code",
   "execution_count": 62,
   "metadata": {},
   "outputs": [],
   "source": [
    "X_train, X_test, y_train, y_test_logreg = train_test_split(X, y, test_size=0.20)"
   ]
  },
  {
   "cell_type": "code",
   "execution_count": 63,
   "metadata": {},
   "outputs": [
    {
     "name": "stdout",
     "output_type": "stream",
     "text": [
      "Accuracy: 0.8934457547656911\n",
      "Precision in Logistic Regression: 0.8934457547656911\n"
     ]
    }
   ],
   "source": [
    "# Entrenamos el modelo utilizando los parámetros por defecto, y como ocurría en DecisionTree, vemos que el Accuracy ha mejorado, \n",
    "# pero el resultado es engañoso ya que nuestra variable target tiene clases muy desbalanceadas.\n",
    "\n",
    "logreg = LogisticRegression().fit(X_train, y_train)\n",
    "y_pred_logreg = logreg.predict(X_test)\n",
    "print(\"Accuracy:\",metrics.accuracy_score(y_test_logreg, y_pred_logreg))\n",
    "print(\"Precision in Logistic Regression:\",metrics.precision_score(y_test_logreg, y_pred_logreg))"
   ]
  },
  {
   "cell_type": "code",
   "execution_count": 64,
   "metadata": {},
   "outputs": [
    {
     "name": "stdout",
     "output_type": "stream",
     "text": [
      "Accuracy: 0.7210934757016874\n",
      "Precision in Logistic Regression: 0.9822999525891587\n"
     ]
    }
   ],
   "source": [
    "# Entrenamos el modelo variando los parámetros\n",
    "\n",
    "logreg = LogisticRegression(class_weight=\"balanced\").fit(X_train, y_train)\n",
    "y_pred_logreg = logreg.predict(X_test)\n",
    "print(\"Accuracy:\",metrics.accuracy_score(y_test_logreg, y_pred_logreg))\n",
    "print(\"Precision in Logistic Regression:\",metrics.precision_score(y_test_logreg, y_pred_logreg))"
   ]
  },
  {
   "cell_type": "code",
   "execution_count": 65,
   "metadata": {},
   "outputs": [
    {
     "name": "stdout",
     "output_type": "stream",
     "text": [
      "Accuracy: 0.7210934757016874\n",
      "Precision in Logistic Regression: 0.9822999525891587\n"
     ]
    }
   ],
   "source": [
    "# Entrenamos el modelo variando los parámetros\n",
    "\n",
    "logreg = LogisticRegression(class_weight=\"balanced\", penalty='l2', n_jobs=1, solver='lbfgs').fit(X_train, y_train)\n",
    "y_pred_logreg = logreg.predict(X_test)\n",
    "print(\"Accuracy:\",metrics.accuracy_score(y_test_logreg, y_pred_logreg))\n",
    "print(\"Precision in Logistic Regression:\",metrics.precision_score(y_test_logreg, y_pred_logreg))"
   ]
  },
  {
   "cell_type": "code",
   "execution_count": 67,
   "metadata": {},
   "outputs": [
    {
     "name": "stdout",
     "output_type": "stream",
     "text": [
      "Accuracy: 0.7210934757016874\n",
      "Precision in Logistic Regression: 0.9822999525891587\n"
     ]
    },
    {
     "name": "stderr",
     "output_type": "stream",
     "text": [
      "c:\\users\\marta\\appdata\\local\\programs\\python\\python37\\lib\\site-packages\\sklearn\\svm\\_base.py:986: ConvergenceWarning: Liblinear failed to converge, increase the number of iterations.\n",
      "  \"the number of iterations.\", ConvergenceWarning)\n"
     ]
    }
   ],
   "source": [
    "# Entrenamos el modelo variando los parámetros (¡CUIDADO!: TARDA MUCHO TIEMPO EN EJECUTAR)\n",
    "\n",
    "logreg = LogisticRegression(class_weight=\"balanced\", random_state = 0, dual=True,  solver='liblinear', max_iter=2000).fit(X_train, y_train)\n",
    "y_pred_logreg = logreg.predict(X_test)\n",
    "print(\"Accuracy:\",metrics.accuracy_score(y_test_logreg, y_pred_logreg))\n",
    "print(\"Precision in Logistic Regression:\",metrics.precision_score(y_test_logreg, y_pred_logreg))"
   ]
  },
  {
   "cell_type": "markdown",
   "metadata": {},
   "source": [
    "     "
   ]
  },
  {
   "cell_type": "code",
   "execution_count": null,
   "metadata": {},
   "outputs": [],
   "source": [
    "# KNN #"
   ]
  },
  {
   "cell_type": "code",
   "execution_count": 68,
   "metadata": {},
   "outputs": [],
   "source": [
    "df = pd.DataFrame()\n",
    "df['X'] = file['DepDelay'] #variable independiente (retraso en la salida)\n",
    "df['y'] = file['labeldelay'] #variable dependiente (retraso en la llegada)\n",
    "\n",
    "df = df.sample(frac=0.15) # extraemos una muestra aleatoria del 15%\n",
    "\n",
    "X= np.array(df['X']).reshape((-1, 1)) # features (retraso en la salida)\n",
    "y= df['y'] # target (nos dice si el avión llegó o no llegó con retraso)"
   ]
  },
  {
   "cell_type": "code",
   "execution_count": 69,
   "metadata": {},
   "outputs": [],
   "source": [
    "X_train, X_test, y_train, y_test_knn = train_test_split(X, y, test_size=0.20)"
   ]
  },
  {
   "cell_type": "code",
   "execution_count": 70,
   "metadata": {},
   "outputs": [
    {
     "name": "stdout",
     "output_type": "stream",
     "text": [
      "Distribution before resampling Counter({1: 207850, 0: 24561})\n",
      "Distribution labels after resampling Counter({1: 207850, 0: 207850})\n"
     ]
    }
   ],
   "source": [
    "os =  RandomOverSampler()\n",
    "X_train_res, y_train_res = os.fit_resample(X_train, y_train)\n",
    " \n",
    "print (\"Distribution before resampling {}\".format(Counter(y_train)))\n",
    "print (\"Distribution labels after resampling {}\".format(Counter(y_train_res)))"
   ]
  },
  {
   "cell_type": "code",
   "execution_count": 71,
   "metadata": {},
   "outputs": [
    {
     "name": "stdout",
     "output_type": "stream",
     "text": [
      "Accuracy: 0.6969347537992875\n",
      "Precision in Logistic Regression: 0.9387312995387007\n"
     ]
    }
   ],
   "source": [
    "# Entrenamos el modelo con los parámetros por defecto. \n",
    "\n",
    "knn_clf = KNeighborsClassifier().fit(X_train_res, y_train_res) \n",
    "y_pred_knn = knn_clf.predict(X_test)\n",
    "print(\"Accuracy:\",metrics.accuracy_score(y_test_knn, y_pred_knn))\n",
    "print(\"Precision in Logistic Regression:\",metrics.precision_score(y_test_knn, y_pred_knn))"
   ]
  },
  {
   "cell_type": "code",
   "execution_count": 72,
   "metadata": {},
   "outputs": [
    {
     "name": "stdout",
     "output_type": "stream",
     "text": [
      "Accuracy: 0.7367605803486911\n",
      "Precision in Logistic Regression: 0.9403417943002325\n"
     ]
    }
   ],
   "source": [
    "# Entrenamos de nuevo KNN variando los parámetros\n",
    "\n",
    "knn_clf = KNeighborsClassifier(n_neighbors=15, algorithm='ball_tree', leaf_size=10).fit(X_train_res, y_train_res)\n",
    "y_pred_knn = knn_clf.predict(X_test)\n",
    "print(\"Accuracy:\",metrics.accuracy_score(y_test_knn, y_pred_knn))\n",
    "print(\"Precision in Logistic Regression:\",metrics.precision_score(y_test_knn, y_pred_knn))"
   ]
  },
  {
   "cell_type": "code",
   "execution_count": 73,
   "metadata": {},
   "outputs": [
    {
     "name": "stdout",
     "output_type": "stream",
     "text": [
      "Accuracy: 0.6969347537992875\n",
      "Precision in Logistic Regression: 0.9387312995387007\n"
     ]
    }
   ],
   "source": [
    "# ¿Cómo saber qué valor debe ser el de n_neightbors? En la celda anterior hemos utilizado K=15 y a continuación utilizamos\n",
    "# n_neighbors=5 ya que suele ser el valor más comúnmente utilizado para el algoritmo KNN. En las dos celdas siguientes vamos \n",
    "# a calcular la media de error para todos los valores predichos donde K varía entre 1 y 20, los que nos ayudará a encontrar \n",
    "# los mejores valores para K. \n",
    "\n",
    "knn_clf = KNeighborsClassifier(n_neighbors=5).fit(X_train_res, y_train_res) \n",
    "y_pred_knn = knn_clf.predict(X_test)\n",
    "print(\"Accuracy:\",metrics.accuracy_score(y_test_knn, y_pred_knn))\n",
    "print(\"Precision in Logistic Regression:\",metrics.precision_score(y_test_knn, y_pred_knn))"
   ]
  },
  {
   "cell_type": "code",
   "execution_count": 74,
   "metadata": {},
   "outputs": [
    {
     "data": {
      "text/plain": [
       "([<matplotlib.axis.XTick at 0x26c004a5c08>,\n",
       "  <matplotlib.axis.XTick at 0x26c004c6108>,\n",
       "  <matplotlib.axis.XTick at 0x26c004a50c8>,\n",
       "  <matplotlib.axis.XTick at 0x26c00339cc8>,\n",
       "  <matplotlib.axis.XTick at 0x26c0033b608>],\n",
       " [Text(0, 0, ''),\n",
       "  Text(0, 0, ''),\n",
       "  Text(0, 0, ''),\n",
       "  Text(0, 0, ''),\n",
       "  Text(0, 0, '')])"
      ]
     },
     "execution_count": 74,
     "metadata": {},
     "output_type": "execute_result"
    },
    {
     "data": {
      "image/png": "[encoded data removed]",
      "text/plain": [
       "<Figure size 432x288 with 1 Axes>"
      ]
     },
     "metadata": {
      "needs_background": "light"
     },
     "output_type": "display_data"
    }
   ],
   "source": [
    "# A continuación calculamos la precisión obtenida para los valores de K entre 1 y  20, y graficamos. En la gráfica resultante \n",
    "# vemos que ente K=11 y K=15 es donde mayor precisión se logra.\n",
    "\n",
    "k_range = range(1, 20)\n",
    "scores = []\n",
    "\n",
    "for k in k_range:\n",
    "    knn = KNeighborsClassifier(n_neighbors = k)\n",
    "    knn.fit(X_train, y_train)\n",
    "    scores.append(knn.score(X_test, y_test_knn))\n",
    "\n",
    "plt.figure()\n",
    "plt.xlabel('k')\n",
    "plt.ylabel('accuracy')\n",
    "plt.scatter(k_range, scores)\n",
    "plt.xticks([0,5,10,15,20])"
   ]
  },
  {
   "cell_type": "code",
   "execution_count": 75,
   "metadata": {},
   "outputs": [
    {
     "name": "stdout",
     "output_type": "stream",
     "text": [
      "Accuracy: 0.737294115622257\n",
      "Precision in Logistic Regression: 0.9422928894448186\n"
     ]
    }
   ],
   "source": [
    "# Volvemos a ejecutar KNN con K=11, según el resultado del gráfico anterior, y observamos que tanto el accuracy como la \n",
    "# precisión del algoritmo mejoran considerablemente.\n",
    "\n",
    "knn_clf = KNeighborsClassifier(n_neighbors=11).fit(X_train_res, y_train_res) \n",
    "y_pred_knn = knn_clf.predict(X_test)\n",
    "print(\"Accuracy:\",metrics.accuracy_score(y_test_knn, y_pred_knn))\n",
    "print(\"Precision in Logistic Regression:\",metrics.precision_score(y_test_knn, y_pred_knn))"
   ]
  },
  {
   "cell_type": "markdown",
   "metadata": {},
   "source": [
    "### <span style=\"color:black\">Exercici 4.</span>"
   ]
  },
  {
   "cell_type": "markdown",
   "metadata": {},
   "source": [
    "__Compara el seu rendiment utilitzant l’aproximació traint/test o utilitzant totes les dades (cross-validation):__ <span style=\"color:blue\">__[X] Fet__</span>"
   ]
  },
  {
   "cell_type": "code",
   "execution_count": null,
   "metadata": {},
   "outputs": [],
   "source": [
    "# Vamos a comparar el rendimiento de los modelos utilizando cross-validation, ya que en los ejercicios anteriores ya hemos \n",
    "# utilizado train/test."
   ]
  },
  {
   "cell_type": "code",
   "execution_count": null,
   "metadata": {},
   "outputs": [],
   "source": [
    "# ÁRBOL DE DECISIÓN #"
   ]
  },
  {
   "cell_type": "code",
   "execution_count": 126,
   "metadata": {},
   "outputs": [],
   "source": [
    "X= np.array(file['DepDelay']).reshape((-1, 1)) # features (retraso en la salida)\n",
    "y= file['labeldelay'] # target (nos dice si el avión llegó o no llegó con retraso)"
   ]
  },
  {
   "cell_type": "code",
   "execution_count": 127,
   "metadata": {
    "scrolled": true
   },
   "outputs": [
    {
     "data": {
      "text/plain": [
       "((1936758, 1), (1936758,))"
      ]
     },
     "execution_count": 127,
     "metadata": {},
     "output_type": "execute_result"
    }
   ],
   "source": [
    "X.shape, y.shape"
   ]
  },
  {
   "cell_type": "code",
   "execution_count": 128,
   "metadata": {},
   "outputs": [],
   "source": [
    "clf = DecisionTreeClassifier(class_weight=\"balanced\", criterion='gini', max_depth=3, min_samples_split=5).fit(X, y)"
   ]
  },
  {
   "cell_type": "code",
   "execution_count": 129,
   "metadata": {},
   "outputs": [],
   "source": [
    "cv = KFold(n_splits=3)"
   ]
  },
  {
   "cell_type": "code",
   "execution_count": 130,
   "metadata": {},
   "outputs": [
    {
     "name": "stdout",
     "output_type": "stream",
     "text": [
      "Accuracy for the fold no. 0 on the test set: 0.7621556229534098\n",
      "Accuracy for the fold no. 1 on the test set: 0.6835138928043669\n",
      "Accuracy for the fold no. 2 on the test set: 0.7567667204679159\n"
     ]
    }
   ],
   "source": [
    "for i, score in enumerate(cross_val_score(clf, X, y, cv=cv)):\n",
    "    print(f\"Accuracy for the fold no. {i} on the test set: {score}\")"
   ]
  },
  {
   "cell_type": "code",
   "execution_count": 131,
   "metadata": {},
   "outputs": [],
   "source": [
    "y_pred = clf.predict(X)"
   ]
  },
  {
   "cell_type": "code",
   "execution_count": 132,
   "metadata": {
    "scrolled": true
   },
   "outputs": [
    {
     "name": "stdout",
     "output_type": "stream",
     "text": [
      "              precision    recall  f1-score   support\n",
      "\n",
      "           0       0.28      0.84      0.42    204956\n",
      "           1       0.98      0.75      0.85   1731802\n",
      "\n",
      "    accuracy                           0.76   1936758\n",
      "   macro avg       0.63      0.80      0.64   1936758\n",
      "weighted avg       0.90      0.76      0.80   1936758\n",
      "\n"
     ]
    }
   ],
   "source": [
    "print(classification_report(y, y_pred))"
   ]
  },
  {
   "cell_type": "markdown",
   "metadata": {},
   "source": [
    "   "
   ]
  },
  {
   "cell_type": "code",
   "execution_count": null,
   "metadata": {},
   "outputs": [],
   "source": [
    "# LOGISTIC REGRESSION #"
   ]
  },
  {
   "cell_type": "code",
   "execution_count": 119,
   "metadata": {},
   "outputs": [],
   "source": [
    "X= np.array(file['DepDelay']).reshape((-1, 1)) # features (retraso en la salida)\n",
    "y= file['labeldelay'] # target (nos dice si el avión llegó o no llegó con retraso)"
   ]
  },
  {
   "cell_type": "code",
   "execution_count": 120,
   "metadata": {
    "scrolled": true
   },
   "outputs": [
    {
     "data": {
      "text/plain": [
       "((1936758, 1), (1936758,))"
      ]
     },
     "execution_count": 120,
     "metadata": {},
     "output_type": "execute_result"
    }
   ],
   "source": [
    "X.shape, y.shape"
   ]
  },
  {
   "cell_type": "code",
   "execution_count": 121,
   "metadata": {},
   "outputs": [],
   "source": [
    "logreg = LogisticRegression(class_weight=\"balanced\").fit(X,y)"
   ]
  },
  {
   "cell_type": "code",
   "execution_count": 122,
   "metadata": {},
   "outputs": [],
   "source": [
    "cv = KFold(n_splits=3)"
   ]
  },
  {
   "cell_type": "code",
   "execution_count": 123,
   "metadata": {},
   "outputs": [
    {
     "name": "stdout",
     "output_type": "stream",
     "text": [
      "Accuracy for the fold no. 0 on the test set: 0.7246981811873244\n",
      "Accuracy for the fold no. 1 on the test set: 0.7175589309557519\n",
      "Accuracy for the fold no. 2 on the test set: 0.7211788979314917\n"
     ]
    }
   ],
   "source": [
    "for i, score in enumerate(cross_val_score(logreg, X, y, cv=cv)):\n",
    "    print(f\"Accuracy for the fold no. {i} on the test set: {score}\")"
   ]
  },
  {
   "cell_type": "code",
   "execution_count": 124,
   "metadata": {},
   "outputs": [],
   "source": [
    "y_pred = logreg.predict(X)"
   ]
  },
  {
   "cell_type": "code",
   "execution_count": 125,
   "metadata": {
    "scrolled": true
   },
   "outputs": [
    {
     "name": "stdout",
     "output_type": "stream",
     "text": [
      "              precision    recall  f1-score   support\n",
      "\n",
      "           0       0.26      0.90      0.40    204956\n",
      "           1       0.98      0.70      0.82   1731802\n",
      "\n",
      "    accuracy                           0.72   1936758\n",
      "   macro avg       0.62      0.80      0.61   1936758\n",
      "weighted avg       0.91      0.72      0.77   1936758\n",
      "\n"
     ]
    }
   ],
   "source": [
    "print(classification_report(y, y_pred))"
   ]
  },
  {
   "cell_type": "markdown",
   "metadata": {
    "scrolled": true
   },
   "source": [
    "       "
   ]
  },
  {
   "cell_type": "code",
   "execution_count": null,
   "metadata": {},
   "outputs": [],
   "source": [
    "# KNN #"
   ]
  },
  {
   "cell_type": "code",
   "execution_count": 149,
   "metadata": {},
   "outputs": [],
   "source": [
    "df = pd.DataFrame()\n",
    "df['X'] = file['DepDelay'] #variable independiente (retraso en la salida)\n",
    "df['y'] = file['labeldelay'] #variable dependiente (retraso en la llegada)\n",
    "\n",
    "df = df.sample(frac=0.15) # extraemos una muestra aleatoria del 15%\n",
    "\n",
    "X= np.array(df['X']).reshape((-1, 1)) # features (retraso en la salida)\n",
    "y= df['y'] # target (nos dice si el avión llegó o no llegó con retraso)"
   ]
  },
  {
   "cell_type": "code",
   "execution_count": 150,
   "metadata": {
    "scrolled": true
   },
   "outputs": [
    {
     "data": {
      "text/plain": [
       "((290514, 1), (290514,))"
      ]
     },
     "execution_count": 150,
     "metadata": {},
     "output_type": "execute_result"
    }
   ],
   "source": [
    "X.shape, y.shape"
   ]
  },
  {
   "cell_type": "code",
   "execution_count": 151,
   "metadata": {},
   "outputs": [
    {
     "name": "stdout",
     "output_type": "stream",
     "text": [
      "Distribution before resampling Counter({1: 259642, 0: 30872})\n",
      "Distribution labels after resampling Counter({1: 259642, 0: 259642})\n"
     ]
    }
   ],
   "source": [
    "os =  RandomOverSampler()\n",
    "X_res, y_res = os.fit_resample(X, y)\n",
    "\n",
    "print (\"Distribution before resampling {}\".format(Counter(y)))\n",
    "print (\"Distribution labels after resampling {}\".format(Counter(y_res)))"
   ]
  },
  {
   "cell_type": "code",
   "execution_count": 152,
   "metadata": {},
   "outputs": [],
   "source": [
    "knn_clf = KNeighborsClassifier(n_neighbors=11).fit(X_res, y_res) "
   ]
  },
  {
   "cell_type": "code",
   "execution_count": 153,
   "metadata": {},
   "outputs": [],
   "source": [
    "cv = KFold(n_splits=5)"
   ]
  },
  {
   "cell_type": "code",
   "execution_count": 154,
   "metadata": {},
   "outputs": [
    {
     "name": "stdout",
     "output_type": "stream",
     "text": [
      "Accuracy for the fold no. 0 on the test set: 0.6790587057203655\n",
      "Accuracy for the fold no. 1 on the test set: 0.6895346486033681\n",
      "Accuracy for the fold no. 2 on the test set: 0.7048537893449647\n",
      "Accuracy for the fold no. 3 on the test set: 0.7693270554705027\n",
      "Accuracy for the fold no. 4 on the test set: 0.6565725620089354\n"
     ]
    }
   ],
   "source": [
    "for i, score in enumerate(cross_val_score(knn_clf, X_res, y_res, cv=cv)):\n",
    "    print(f\"Accuracy for the fold no. {i} on the test set: {score}\")"
   ]
  },
  {
   "cell_type": "code",
   "execution_count": 155,
   "metadata": {},
   "outputs": [],
   "source": [
    "y_pred = knn_clf.predict(X_res)"
   ]
  },
  {
   "cell_type": "code",
   "execution_count": 156,
   "metadata": {
    "scrolled": true
   },
   "outputs": [
    {
     "name": "stdout",
     "output_type": "stream",
     "text": [
      "              precision    recall  f1-score   support\n",
      "\n",
      "           0       0.79      0.72      0.75    259642\n",
      "           1       0.74      0.80      0.77    259642\n",
      "\n",
      "    accuracy                           0.76    519284\n",
      "   macro avg       0.77      0.76      0.76    519284\n",
      "weighted avg       0.77      0.76      0.76    519284\n",
      "\n"
     ]
    }
   ],
   "source": [
    "print(classification_report(y_res, y_pred))"
   ]
  },
  {
   "cell_type": "markdown",
   "metadata": {},
   "source": [
    "    "
   ]
  },
  {
   "cell_type": "markdown",
   "metadata": {},
   "source": [
    "### <span style=\"color:black\">Exercici 5.</span>"
   ]
  },
  {
   "cell_type": "markdown",
   "metadata": {},
   "source": [
    "__Realitza algun procés d’enginyeria de variables per millorar-ne la predicció:__<span style=\"color:blue\">__[X] Fet__</span>"
   ]
  },
  {
   "cell_type": "code",
   "execution_count": null,
   "metadata": {},
   "outputs": [],
   "source": [
    "# En los ejercicios anteriores hemos visto que el modelo creado con KNN quizá no era el que mejor predecía, respecto a los \n",
    "# modelos creados con DecisionTree o LogisticRegression, si un vuelo iba a llegar con retraso. Sin embargo sí es con diferencia \n",
    "# el que predice con mayor precisión si un avión va a llegar on time ( el 79% de las veces lo predecirá de forma correcta), \n",
    "# frente al 26% y 28% de los otros dos algoritmos. Por ello, a continuación vamos a ver si haciendo feature engineering \n",
    "# (vamos a escalar los datos) y feature selection podemos mejorar el modelo. "
   ]
  },
  {
   "cell_type": "code",
   "execution_count": null,
   "metadata": {},
   "outputs": [],
   "source": [
    "# En primer lugar, voy a hacer feature selection con SelectKBest. Hasta ahora no había utilizado ninguna función de feature\n",
    "# selection ya que en este dataset es muy obvio cuales son las features que más información nos pueden proporcionar para conocer\n",
    "# si un vuelo va a llegar tarde o no. Pero igualmente vamos a probar. "
   ]
  },
  {
   "cell_type": "code",
   "execution_count": 218,
   "metadata": {},
   "outputs": [],
   "source": [
    "df = pd.DataFrame()\n",
    "X = file[['DepDelay', 'Month','DayofMonth', 'DayOfWeek', 'DepTime', 'CRSDepTime']] # a través de la Matriz de correlación, seleccionamos 6 variables\n",
    "y = file['labeldelay'] #variable dependiente (retraso en la llegada)"
   ]
  },
  {
   "cell_type": "code",
   "execution_count": 219,
   "metadata": {},
   "outputs": [
    {
     "name": "stdout",
     "output_type": "stream",
     "text": [
      "Original feature number: 6\n",
      "Reduced feature number: 3\n"
     ]
    }
   ],
   "source": [
    "features = SelectKBest(chi2, k = 3)\n",
    "X_kbest_features = features.fit_transform(X, y)\n",
    "  \n",
    "# Reducimos las variables a 3: \n",
    "\n",
    "print('Original feature number:', X.shape[1])\n",
    "print('Reduced feature number:', X_kbest_features.shape[1])"
   ]
  },
  {
   "cell_type": "code",
   "execution_count": 220,
   "metadata": {},
   "outputs": [
    {
     "name": "stdout",
     "output_type": "stream",
     "text": [
      "[[   8. 2003. 1955.]\n",
      " [  19.  754.  735.]\n",
      " [   8.  628.  620.]\n",
      " [  34. 1829. 1755.]\n",
      " [  25. 1940. 1915.]]\n"
     ]
    }
   ],
   "source": [
    "# Visualizamos los datos de las variables seleccionadas y lo contrastamos con el dataset 'X' para saber qué variables son.\n",
    "\n",
    "print(X_kbest_features[:5])"
   ]
  },
  {
   "cell_type": "code",
   "execution_count": 221,
   "metadata": {},
   "outputs": [
    {
     "name": "stdout",
     "output_type": "stream",
     "text": [
      "   DepDelay  Month  DayofMonth  DayOfWeek  DepTime  CRSDepTime\n",
      "0       8.0      1           3          4   2003.0        1955\n",
      "1      19.0      1           3          4    754.0         735\n",
      "2       8.0      1           3          4    628.0         620\n",
      "3      34.0      1           3          4   1829.0        1755\n",
      "4      25.0      1           3          4   1940.0        1915\n"
     ]
    }
   ],
   "source": [
    "print(X.head())"
   ]
  },
  {
   "cell_type": "code",
   "execution_count": 222,
   "metadata": {},
   "outputs": [],
   "source": [
    "# Vemos que las tres mejores variables de DelayedFlights son DepDelay, DepTime y CRSDepTime."
   ]
  },
  {
   "cell_type": "code",
   "execution_count": 223,
   "metadata": {},
   "outputs": [],
   "source": [
    " # extraemos una muestra aleatoria del 15% por problemas de memoria en mi PC\n",
    "\n",
    "df=file[['DepDelay', 'DepTime', 'CRSDepTime', 'labeldelay']]\n",
    "df = df.sample(frac=0.15)"
   ]
  },
  {
   "cell_type": "code",
   "execution_count": 224,
   "metadata": {},
   "outputs": [
    {
     "data": {
      "text/html": [
       "<div>\n",
       "<style scoped>\n",
       "    .dataframe tbody tr th:only-of-type {\n",
       "        vertical-align: middle;\n",
       "    }\n",
       "\n",
       "    .dataframe tbody tr th {\n",
       "        vertical-align: top;\n",
       "    }\n",
       "\n",
       "    .dataframe thead th {\n",
       "        text-align: right;\n",
       "    }\n",
       "</style>\n",
       "<table border=\"1\" class=\"dataframe\">\n",
       "  <thead>\n",
       "    <tr style=\"text-align: right;\">\n",
       "      <th></th>\n",
       "      <th>DepDelay</th>\n",
       "      <th>DepTime</th>\n",
       "      <th>CRSDepTime</th>\n",
       "      <th>labeldelay</th>\n",
       "    </tr>\n",
       "  </thead>\n",
       "  <tbody>\n",
       "    <tr>\n",
       "      <th>1318552</th>\n",
       "      <td>119.0</td>\n",
       "      <td>1754.0</td>\n",
       "      <td>1555</td>\n",
       "      <td>1</td>\n",
       "    </tr>\n",
       "    <tr>\n",
       "      <th>893702</th>\n",
       "      <td>25.0</td>\n",
       "      <td>1515.0</td>\n",
       "      <td>1450</td>\n",
       "      <td>1</td>\n",
       "    </tr>\n",
       "    <tr>\n",
       "      <th>1569960</th>\n",
       "      <td>50.0</td>\n",
       "      <td>1439.0</td>\n",
       "      <td>1349</td>\n",
       "      <td>1</td>\n",
       "    </tr>\n",
       "    <tr>\n",
       "      <th>373334</th>\n",
       "      <td>9.0</td>\n",
       "      <td>2014.0</td>\n",
       "      <td>2005</td>\n",
       "      <td>1</td>\n",
       "    </tr>\n",
       "    <tr>\n",
       "      <th>1846105</th>\n",
       "      <td>65.0</td>\n",
       "      <td>1437.0</td>\n",
       "      <td>1332</td>\n",
       "      <td>1</td>\n",
       "    </tr>\n",
       "  </tbody>\n",
       "</table>\n",
       "</div>"
      ],
      "text/plain": [
       "         DepDelay  DepTime  CRSDepTime  labeldelay\n",
       "1318552     119.0   1754.0        1555           1\n",
       "893702       25.0   1515.0        1450           1\n",
       "1569960      50.0   1439.0        1349           1\n",
       "373334        9.0   2014.0        2005           1\n",
       "1846105      65.0   1437.0        1332           1"
      ]
     },
     "execution_count": 224,
     "metadata": {},
     "output_type": "execute_result"
    }
   ],
   "source": [
    "df.head()"
   ]
  },
  {
   "cell_type": "code",
   "execution_count": 225,
   "metadata": {},
   "outputs": [],
   "source": [
    "# A continuación vamos a realizar un escalado de las características.\n",
    "\n",
    "scaler = StandardScaler().fit(df)"
   ]
  },
  {
   "cell_type": "code",
   "execution_count": 226,
   "metadata": {},
   "outputs": [],
   "source": [
    "X =df[['DepDelay', 'DepTime', 'CRSDepTime']]\n",
    "y = df['labeldelay']"
   ]
  },
  {
   "cell_type": "code",
   "execution_count": 227,
   "metadata": {},
   "outputs": [],
   "source": [
    "#X= np.array(X).reshape((-1, 1)) # features (hora de salida y retraso en la salida (en minutos))\n",
    "#y= y # target (nos dice si el avión llegó o no llegó con retraso)"
   ]
  },
  {
   "cell_type": "code",
   "execution_count": 228,
   "metadata": {},
   "outputs": [
    {
     "data": {
      "text/plain": [
       "((290514, 3), (290514,))"
      ]
     },
     "execution_count": 228,
     "metadata": {},
     "output_type": "execute_result"
    }
   ],
   "source": [
    "X.shape, y.shape"
   ]
  },
  {
   "cell_type": "code",
   "execution_count": 229,
   "metadata": {},
   "outputs": [
    {
     "name": "stdout",
     "output_type": "stream",
     "text": [
      "Distribution before resampling Counter({1: 259717, 0: 30797})\n",
      "Distribution labels after resampling Counter({1: 259717, 0: 259717})\n"
     ]
    }
   ],
   "source": [
    "# Balanceamos de nuevo los datos \n",
    "\n",
    "os =  RandomOverSampler()\n",
    "X_res, y_res = os.fit_resample(X, y)\n",
    "\n",
    "print (\"Distribution before resampling {}\".format(Counter(y)))\n",
    "print (\"Distribution labels after resampling {}\".format(Counter(y_res)))"
   ]
  },
  {
   "cell_type": "code",
   "execution_count": 230,
   "metadata": {},
   "outputs": [],
   "source": [
    "X_train, X_test, y_train, y_test = train_test_split(X, y, test_size=0.20)"
   ]
  },
  {
   "cell_type": "code",
   "execution_count": 152,
   "metadata": {},
   "outputs": [],
   "source": [
    "knn_clf = KNeighborsClassifier(n_neighbors=11).fit(X_res, y_res) "
   ]
  },
  {
   "cell_type": "code",
   "execution_count": 155,
   "metadata": {},
   "outputs": [],
   "source": [
    "y_pred = knn_clf.predict(X_res)"
   ]
  },
  {
   "cell_type": "code",
   "execution_count": 233,
   "metadata": {
    "scrolled": true
   },
   "outputs": [
    {
     "name": "stdout",
     "output_type": "stream",
     "text": [
      "              precision    recall  f1-score   support\n",
      "\n",
      "           0       0.77      0.91      0.83    259717\n",
      "           1       0.89      0.73      0.80    259717\n",
      "\n",
      "    accuracy                           0.82    519434\n",
      "   macro avg       0.83      0.82      0.82    519434\n",
      "weighted avg       0.83      0.82      0.82    519434\n",
      "\n"
     ]
    }
   ],
   "source": [
    "# Voilà, hemos mejorado la precisión en la predicción de los vuelos retrasados de 0.72 al 0.89%!\n",
    "\n",
    "print(classification_report(y_res, y_pred))"
   ]
  },
  {
   "cell_type": "markdown",
   "metadata": {},
   "source": [
    "         "
   ]
  },
  {
   "cell_type": "markdown",
   "metadata": {},
   "source": [
    "### <span style=\"color:black\">Exercici 6.</span>"
   ]
  },
  {
   "cell_type": "markdown",
   "metadata": {},
   "source": [
    "__No utilitzis la variable DepDelay a l’hora de fer prediccions:__ <span style=\"color:blue\">__[X] Fet__</span>"
   ]
  },
  {
   "cell_type": "code",
   "execution_count": 256,
   "metadata": {},
   "outputs": [],
   "source": [
    "# Como no podemos utilizar la variable DepDelay, vamos a realizar un sumatorio de las variables donde se describe el motivo \n",
    "# de los retrasos (LateAircraftDelay, CarrierDelay, NASDelay, SecurityDelay y WeatherDelay), y utilizar las features 'DepTime' \n",
    "# y 'CRSDepTime' que tan buen resultado nos ha dado en el ejercicio 5, e intentar mejorar el modelo con KNN. Veamos si funciona. "
   ]
  },
  {
   "cell_type": "code",
   "execution_count": 87,
   "metadata": {},
   "outputs": [],
   "source": [
    "# Sustituimos los valors NaN de las featrures que vamos a utilizar\n",
    "\n",
    "file['CarrierDelay']=file['CarrierDelay'].fillna(file['CarrierDelay'].mean())\n",
    "file['WeatherDelay']=file['WeatherDelay'].fillna(file['WeatherDelay'].mean())\n",
    "file['SecurityDelay']=file['SecurityDelay'].fillna(file['SecurityDelay'].mean())\n",
    "file['NASDelay']=file['NASDelay'].fillna(file['NASDelay'].mean())\n",
    "file['LateAircraftDelay']=file['LateAircraftDelay'].fillna(file['LateAircraftDelay'].mean())"
   ]
  },
  {
   "cell_type": "code",
   "execution_count": 97,
   "metadata": {},
   "outputs": [],
   "source": [
    "suma = file[\"LateAircraftDelay\"] + file[\"CarrierDelay\"] + file[\"NASDelay\"] + file[\"SecurityDelay\"] + file[\"WeatherDelay\"]\n",
    "\n",
    "data = pd.DataFrame()\n",
    "data[\"Delay\"] = suma\n",
    "data['DepTime']=file['DepTime']\n",
    "data['CRSDepTime']=file['CRSDepTime']\n",
    "X = np.array(data) # features\n",
    "y= file['labeldelay'] # target"
   ]
  },
  {
   "cell_type": "code",
   "execution_count": 98,
   "metadata": {},
   "outputs": [
    {
     "data": {
      "text/plain": [
       "((1936758, 3), (1936758,))"
      ]
     },
     "execution_count": 98,
     "metadata": {},
     "output_type": "execute_result"
    }
   ],
   "source": [
    "data.shape, file['labeldelay'].shape"
   ]
  },
  {
   "cell_type": "code",
   "execution_count": 99,
   "metadata": {},
   "outputs": [
    {
     "data": {
      "text/html": [
       "<div>\n",
       "<style scoped>\n",
       "    .dataframe tbody tr th:only-of-type {\n",
       "        vertical-align: middle;\n",
       "    }\n",
       "\n",
       "    .dataframe tbody tr th {\n",
       "        vertical-align: top;\n",
       "    }\n",
       "\n",
       "    .dataframe thead th {\n",
       "        text-align: right;\n",
       "    }\n",
       "</style>\n",
       "<table border=\"1\" class=\"dataframe\">\n",
       "  <thead>\n",
       "    <tr style=\"text-align: right;\">\n",
       "      <th></th>\n",
       "      <th>0</th>\n",
       "      <th>1</th>\n",
       "      <th>2</th>\n",
       "    </tr>\n",
       "    <tr>\n",
       "      <th>labeldelay</th>\n",
       "      <th></th>\n",
       "      <th></th>\n",
       "      <th></th>\n",
       "    </tr>\n",
       "  </thead>\n",
       "  <tbody>\n",
       "    <tr>\n",
       "      <th>1</th>\n",
       "      <td>97.000000</td>\n",
       "      <td>2140.0</td>\n",
       "      <td>1953.0</td>\n",
       "    </tr>\n",
       "    <tr>\n",
       "      <th>1</th>\n",
       "      <td>31.000000</td>\n",
       "      <td>2202.0</td>\n",
       "      <td>2135.0</td>\n",
       "    </tr>\n",
       "    <tr>\n",
       "      <th>1</th>\n",
       "      <td>63.291208</td>\n",
       "      <td>1607.0</td>\n",
       "      <td>1550.0</td>\n",
       "    </tr>\n",
       "    <tr>\n",
       "      <th>1</th>\n",
       "      <td>63.291208</td>\n",
       "      <td>1529.0</td>\n",
       "      <td>1520.0</td>\n",
       "    </tr>\n",
       "    <tr>\n",
       "      <th>1</th>\n",
       "      <td>76.000000</td>\n",
       "      <td>1118.0</td>\n",
       "      <td>1005.0</td>\n",
       "    </tr>\n",
       "  </tbody>\n",
       "</table>\n",
       "</div>"
      ],
      "text/plain": [
       "                    0       1       2\n",
       "labeldelay                           \n",
       "1           97.000000  2140.0  1953.0\n",
       "1           31.000000  2202.0  2135.0\n",
       "1           63.291208  1607.0  1550.0\n",
       "1           63.291208  1529.0  1520.0\n",
       "1           76.000000  1118.0  1005.0"
      ]
     },
     "execution_count": 99,
     "metadata": {},
     "output_type": "execute_result"
    }
   ],
   "source": [
    "# extraemos una muestra aleatoria del 15% por problemas de memoria en mi PC\n",
    "\n",
    "df = pd.DataFrame(X, y)\n",
    "df = df.sample(frac=0.15)\n",
    "df.head()"
   ]
  },
  {
   "cell_type": "code",
   "execution_count": 101,
   "metadata": {},
   "outputs": [],
   "source": [
    "X = df.loc[:,[0,1,2]] # features\n",
    "y= df.index # target"
   ]
  },
  {
   "cell_type": "code",
   "execution_count": 103,
   "metadata": {},
   "outputs": [
    {
     "name": "stdout",
     "output_type": "stream",
     "text": [
      "Counter({1: 259808, 0: 259808})\n"
     ]
    }
   ],
   "source": [
    "# Balanceamos de nuevo los datos. \n",
    "\n",
    "oversample = RandomOverSampler(sampling_strategy='minority')\n",
    "X, y = oversample.fit_resample(X, y)\n",
    "\n",
    "counter = Counter(y)\n",
    "print(counter)"
   ]
  },
  {
   "cell_type": "code",
   "execution_count": 105,
   "metadata": {},
   "outputs": [
    {
     "data": {
      "text/plain": [
       "((519616, 3), (519616,))"
      ]
     },
     "execution_count": 105,
     "metadata": {},
     "output_type": "execute_result"
    }
   ],
   "source": [
    "X.shape, y.shape"
   ]
  },
  {
   "cell_type": "code",
   "execution_count": 106,
   "metadata": {},
   "outputs": [],
   "source": [
    "X_train, X_test, y_train, y_test = train_test_split(X, y, test_size=0.20, random_state=0)"
   ]
  },
  {
   "cell_type": "code",
   "execution_count": 107,
   "metadata": {},
   "outputs": [],
   "source": [
    "knn_clf = KNeighborsClassifier(n_neighbors=11).fit(X_train, y_train) "
   ]
  },
  {
   "cell_type": "code",
   "execution_count": 109,
   "metadata": {},
   "outputs": [],
   "source": [
    "y_pred = knn_clf.predict(X)"
   ]
  },
  {
   "cell_type": "code",
   "execution_count": 111,
   "metadata": {
    "scrolled": true
   },
   "outputs": [
    {
     "name": "stdout",
     "output_type": "stream",
     "text": [
      "              precision    recall  f1-score   support\n",
      "\n",
      "           0       0.81      0.97      0.89    259808\n",
      "           1       0.97      0.78      0.86    259808\n",
      "\n",
      "    accuracy                           0.87    519616\n",
      "   macro avg       0.89      0.87      0.87    519616\n",
      "weighted avg       0.89      0.87      0.87    519616\n",
      "\n"
     ]
    }
   ],
   "source": [
    "# Desde la Tasca del sprint 12 al presente ejercicio hemos conseguido mejorar muchísimo el modelo, consiguiento una precisión en\n",
    "# la predicción de un 97% para los vuelos con retraso, y un 81% para los vuelos que llegan a tiempo o con antelación. \n",
    "\n",
    "print(classification_report(y, y_pred))"
   ]
  },
  {
   "cell_type": "markdown",
   "metadata": {},
   "source": [
    "      "
   ]
  }
 ],
 "metadata": {
  "kernelspec": {
   "display_name": "Python 3",
   "language": "python",
   "name": "python3"
  },
  "language_info": {
   "codemirror_mode": {
    "name": "ipython",
    "version": 3
   },
   "file_extension": ".py",
   "mimetype": "text/x-python",
   "name": "python",
   "nbconvert_exporter": "python",
   "pygments_lexer": "ipython3",
   "version": "3.7.4"
  }
 },
 "nbformat": 4,
 "nbformat_minor": 4
}
